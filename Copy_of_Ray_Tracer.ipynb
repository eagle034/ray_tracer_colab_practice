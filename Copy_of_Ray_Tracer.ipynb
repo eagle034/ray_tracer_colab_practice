{
  "nbformat": 4,
  "nbformat_minor": 0,
  "metadata": {
    "colab": {
      "provenance": [],
      "include_colab_link": true
    },
    "kernelspec": {
      "name": "python3",
      "display_name": "Python 3"
    },
    "language_info": {
      "name": "python"
    },
    "widgets": {
      "application/vnd.jupyter.widget-state+json": {
        "20ff9caf1282475e86f9fa98e3c026c6": {
          "model_module": "@jupyter-widgets/controls",
          "model_name": "HBoxModel",
          "model_module_version": "1.5.0",
          "state": {
            "_dom_classes": [],
            "_model_module": "@jupyter-widgets/controls",
            "_model_module_version": "1.5.0",
            "_model_name": "HBoxModel",
            "_view_count": null,
            "_view_module": "@jupyter-widgets/controls",
            "_view_module_version": "1.5.0",
            "_view_name": "HBoxView",
            "box_style": "",
            "children": [
              "IPY_MODEL_69596925aa864101a25b70392acfe350",
              "IPY_MODEL_e90afa30c92c44a8af18ddf4dc46866f",
              "IPY_MODEL_c3813c52939644bbb7fbd05c5705b12a"
            ],
            "layout": "IPY_MODEL_a0e4d9406b2f4806917c54cf67dec46a"
          }
        },
        "69596925aa864101a25b70392acfe350": {
          "model_module": "@jupyter-widgets/controls",
          "model_name": "HTMLModel",
          "model_module_version": "1.5.0",
          "state": {
            "_dom_classes": [],
            "_model_module": "@jupyter-widgets/controls",
            "_model_module_version": "1.5.0",
            "_model_name": "HTMLModel",
            "_view_count": null,
            "_view_module": "@jupyter-widgets/controls",
            "_view_module_version": "1.5.0",
            "_view_name": "HTMLView",
            "description": "",
            "description_tooltip": null,
            "layout": "IPY_MODEL_718beb864e12401294693a29e26e26d5",
            "placeholder": "​",
            "style": "IPY_MODEL_ba7494e0b6ba44f2bfd663cfccde6ebc",
            "value": "100%"
          }
        },
        "e90afa30c92c44a8af18ddf4dc46866f": {
          "model_module": "@jupyter-widgets/controls",
          "model_name": "FloatProgressModel",
          "model_module_version": "1.5.0",
          "state": {
            "_dom_classes": [],
            "_model_module": "@jupyter-widgets/controls",
            "_model_module_version": "1.5.0",
            "_model_name": "FloatProgressModel",
            "_view_count": null,
            "_view_module": "@jupyter-widgets/controls",
            "_view_module_version": "1.5.0",
            "_view_name": "ProgressView",
            "bar_style": "success",
            "description": "",
            "description_tooltip": null,
            "layout": "IPY_MODEL_4040914b80944add9615bd761e1b7d62",
            "max": 180,
            "min": 0,
            "orientation": "horizontal",
            "style": "IPY_MODEL_f38c2047ab774e71b0da0e1b31fd487f",
            "value": 180
          }
        },
        "c3813c52939644bbb7fbd05c5705b12a": {
          "model_module": "@jupyter-widgets/controls",
          "model_name": "HTMLModel",
          "model_module_version": "1.5.0",
          "state": {
            "_dom_classes": [],
            "_model_module": "@jupyter-widgets/controls",
            "_model_module_version": "1.5.0",
            "_model_name": "HTMLModel",
            "_view_count": null,
            "_view_module": "@jupyter-widgets/controls",
            "_view_module_version": "1.5.0",
            "_view_name": "HTMLView",
            "description": "",
            "description_tooltip": null,
            "layout": "IPY_MODEL_49f7d6e3341c4c4d8ed7d68bcaf4601c",
            "placeholder": "​",
            "style": "IPY_MODEL_2e4d951f0c024a5794ca1c19b9f43fb6",
            "value": " 180/180 [00:06&lt;00:00, 34.37it/s]"
          }
        },
        "a0e4d9406b2f4806917c54cf67dec46a": {
          "model_module": "@jupyter-widgets/base",
          "model_name": "LayoutModel",
          "model_module_version": "1.2.0",
          "state": {
            "_model_module": "@jupyter-widgets/base",
            "_model_module_version": "1.2.0",
            "_model_name": "LayoutModel",
            "_view_count": null,
            "_view_module": "@jupyter-widgets/base",
            "_view_module_version": "1.2.0",
            "_view_name": "LayoutView",
            "align_content": null,
            "align_items": null,
            "align_self": null,
            "border": null,
            "bottom": null,
            "display": null,
            "flex": null,
            "flex_flow": null,
            "grid_area": null,
            "grid_auto_columns": null,
            "grid_auto_flow": null,
            "grid_auto_rows": null,
            "grid_column": null,
            "grid_gap": null,
            "grid_row": null,
            "grid_template_areas": null,
            "grid_template_columns": null,
            "grid_template_rows": null,
            "height": null,
            "justify_content": null,
            "justify_items": null,
            "left": null,
            "margin": null,
            "max_height": null,
            "max_width": null,
            "min_height": null,
            "min_width": null,
            "object_fit": null,
            "object_position": null,
            "order": null,
            "overflow": null,
            "overflow_x": null,
            "overflow_y": null,
            "padding": null,
            "right": null,
            "top": null,
            "visibility": null,
            "width": null
          }
        },
        "718beb864e12401294693a29e26e26d5": {
          "model_module": "@jupyter-widgets/base",
          "model_name": "LayoutModel",
          "model_module_version": "1.2.0",
          "state": {
            "_model_module": "@jupyter-widgets/base",
            "_model_module_version": "1.2.0",
            "_model_name": "LayoutModel",
            "_view_count": null,
            "_view_module": "@jupyter-widgets/base",
            "_view_module_version": "1.2.0",
            "_view_name": "LayoutView",
            "align_content": null,
            "align_items": null,
            "align_self": null,
            "border": null,
            "bottom": null,
            "display": null,
            "flex": null,
            "flex_flow": null,
            "grid_area": null,
            "grid_auto_columns": null,
            "grid_auto_flow": null,
            "grid_auto_rows": null,
            "grid_column": null,
            "grid_gap": null,
            "grid_row": null,
            "grid_template_areas": null,
            "grid_template_columns": null,
            "grid_template_rows": null,
            "height": null,
            "justify_content": null,
            "justify_items": null,
            "left": null,
            "margin": null,
            "max_height": null,
            "max_width": null,
            "min_height": null,
            "min_width": null,
            "object_fit": null,
            "object_position": null,
            "order": null,
            "overflow": null,
            "overflow_x": null,
            "overflow_y": null,
            "padding": null,
            "right": null,
            "top": null,
            "visibility": null,
            "width": null
          }
        },
        "ba7494e0b6ba44f2bfd663cfccde6ebc": {
          "model_module": "@jupyter-widgets/controls",
          "model_name": "DescriptionStyleModel",
          "model_module_version": "1.5.0",
          "state": {
            "_model_module": "@jupyter-widgets/controls",
            "_model_module_version": "1.5.0",
            "_model_name": "DescriptionStyleModel",
            "_view_count": null,
            "_view_module": "@jupyter-widgets/base",
            "_view_module_version": "1.2.0",
            "_view_name": "StyleView",
            "description_width": ""
          }
        },
        "4040914b80944add9615bd761e1b7d62": {
          "model_module": "@jupyter-widgets/base",
          "model_name": "LayoutModel",
          "model_module_version": "1.2.0",
          "state": {
            "_model_module": "@jupyter-widgets/base",
            "_model_module_version": "1.2.0",
            "_model_name": "LayoutModel",
            "_view_count": null,
            "_view_module": "@jupyter-widgets/base",
            "_view_module_version": "1.2.0",
            "_view_name": "LayoutView",
            "align_content": null,
            "align_items": null,
            "align_self": null,
            "border": null,
            "bottom": null,
            "display": null,
            "flex": null,
            "flex_flow": null,
            "grid_area": null,
            "grid_auto_columns": null,
            "grid_auto_flow": null,
            "grid_auto_rows": null,
            "grid_column": null,
            "grid_gap": null,
            "grid_row": null,
            "grid_template_areas": null,
            "grid_template_columns": null,
            "grid_template_rows": null,
            "height": null,
            "justify_content": null,
            "justify_items": null,
            "left": null,
            "margin": null,
            "max_height": null,
            "max_width": null,
            "min_height": null,
            "min_width": null,
            "object_fit": null,
            "object_position": null,
            "order": null,
            "overflow": null,
            "overflow_x": null,
            "overflow_y": null,
            "padding": null,
            "right": null,
            "top": null,
            "visibility": null,
            "width": null
          }
        },
        "f38c2047ab774e71b0da0e1b31fd487f": {
          "model_module": "@jupyter-widgets/controls",
          "model_name": "ProgressStyleModel",
          "model_module_version": "1.5.0",
          "state": {
            "_model_module": "@jupyter-widgets/controls",
            "_model_module_version": "1.5.0",
            "_model_name": "ProgressStyleModel",
            "_view_count": null,
            "_view_module": "@jupyter-widgets/base",
            "_view_module_version": "1.2.0",
            "_view_name": "StyleView",
            "bar_color": null,
            "description_width": ""
          }
        },
        "49f7d6e3341c4c4d8ed7d68bcaf4601c": {
          "model_module": "@jupyter-widgets/base",
          "model_name": "LayoutModel",
          "model_module_version": "1.2.0",
          "state": {
            "_model_module": "@jupyter-widgets/base",
            "_model_module_version": "1.2.0",
            "_model_name": "LayoutModel",
            "_view_count": null,
            "_view_module": "@jupyter-widgets/base",
            "_view_module_version": "1.2.0",
            "_view_name": "LayoutView",
            "align_content": null,
            "align_items": null,
            "align_self": null,
            "border": null,
            "bottom": null,
            "display": null,
            "flex": null,
            "flex_flow": null,
            "grid_area": null,
            "grid_auto_columns": null,
            "grid_auto_flow": null,
            "grid_auto_rows": null,
            "grid_column": null,
            "grid_gap": null,
            "grid_row": null,
            "grid_template_areas": null,
            "grid_template_columns": null,
            "grid_template_rows": null,
            "height": null,
            "justify_content": null,
            "justify_items": null,
            "left": null,
            "margin": null,
            "max_height": null,
            "max_width": null,
            "min_height": null,
            "min_width": null,
            "object_fit": null,
            "object_position": null,
            "order": null,
            "overflow": null,
            "overflow_x": null,
            "overflow_y": null,
            "padding": null,
            "right": null,
            "top": null,
            "visibility": null,
            "width": null
          }
        },
        "2e4d951f0c024a5794ca1c19b9f43fb6": {
          "model_module": "@jupyter-widgets/controls",
          "model_name": "DescriptionStyleModel",
          "model_module_version": "1.5.0",
          "state": {
            "_model_module": "@jupyter-widgets/controls",
            "_model_module_version": "1.5.0",
            "_model_name": "DescriptionStyleModel",
            "_view_count": null,
            "_view_module": "@jupyter-widgets/base",
            "_view_module_version": "1.2.0",
            "_view_name": "StyleView",
            "description_width": ""
          }
        }
      }
    }
  },
  "cells": [
    {
      "cell_type": "markdown",
      "metadata": {
        "id": "view-in-github",
        "colab_type": "text"
      },
      "source": [
        "<a href=\"https://colab.research.google.com/github/eagle034/ray_tracer_colab_practice/blob/main/Copy_of_Ray_Tracer.ipynb\" target=\"_parent\"><img src=\"https://colab.research.google.com/assets/colab-badge.svg\" alt=\"Open In Colab\"/></a>"
      ]
    },
    {
      "cell_type": "markdown",
      "metadata": {
        "id": "EoTba3tGcq-D"
      },
      "source": [
        "# Ray Tracer in Colab\n",
        "\n",
        "This is a Colab setup to build and run a C++ ray tracer implementation forked from https://raytracing.github.io/. A thin Python/Cython layer is created to run the C++ code, and display the rendered image in the notebook. This allows both the high performance from C++ code and the flexibility of Python/Colab, but at the cost of requiring some Cython code to interface between them.\n",
        "\n",
        "## Directory structure\n",
        "\n",
        "The C++ sources are stored in the [`ray_tracer_colab`](https://github.com/artoowang/ray_tracer_colab) repo, and it will be checked out to the working directory of the Colab runtime in the initialization cell below.\n",
        "\n",
        "When running the Colab runtime locally, it is also possible to manually check out the `ray_tracer_colab` repo under exactly that name. If such directory exists, initialization will use that directory and skip the checking out. This allows changing the C++ code locally (e.g., in a terminal) and rebuild the Cython module in this notebook to pick up the changes, which is useful for development."
      ]
    },
    {
      "cell_type": "code",
      "source": [
        "from google.colab import drive\n",
        "\n",
        "drive.mount('/content/gdrive')"
      ],
      "metadata": {
        "id": "gVr-VYrqtGQq",
        "outputId": "f315cf8d-23ae-40a6-84ba-e883357912f4",
        "colab": {
          "base_uri": "https://localhost:8080/"
        }
      },
      "execution_count": 1,
      "outputs": [
        {
          "output_type": "stream",
          "name": "stdout",
          "text": [
            "Mounted at /content/gdrive\n"
          ]
        }
      ]
    },
    {
      "cell_type": "markdown",
      "metadata": {
        "id": "K6N_fvY8WFo_"
      },
      "source": [
        "## Initialization"
      ]
    },
    {
      "cell_type": "code",
      "metadata": {
        "id": "Qbj0j2MFHJWJ"
      },
      "source": [
        "import imageio\n",
        "import numpy as np\n",
        "import matplotlib.pyplot as plt\n",
        "import os\n",
        "import sys\n",
        "from PIL import Image\n",
        "\n",
        "%reload_ext Cython\n",
        "\n",
        "imageio.plugins.freeimage.download()"
      ],
      "execution_count": null,
      "outputs": []
    },
    {
      "cell_type": "code",
      "metadata": {
        "colab": {
          "base_uri": "https://localhost:8080/"
        },
        "id": "zeWQxAnTiWWv",
        "outputId": "59e3b144-edfb-47cc-a31d-65d815892b26"
      },
      "source": [
        "if os.path.exists('ray_tracer_colab'):\n",
        "  print('Use local ray_tracer_colab repo.')\n",
        "else:\n",
        "  print('Checking out ray_tracer_colab repo ...')\n",
        "  !git clone https://github.com/artoowang/ray_tracer_colab.git"
      ],
      "execution_count": null,
      "outputs": [
        {
          "output_type": "stream",
          "name": "stdout",
          "text": [
            "Checking out ray_tracer_colab repo ...\n",
            "Cloning into 'ray_tracer_colab'...\n",
            "remote: Enumerating objects: 106, done.\u001b[K\n",
            "remote: Total 106 (delta 0), reused 0 (delta 0), pack-reused 106\u001b[K\n",
            "Receiving objects: 100% (106/106), 2.65 MiB | 5.83 MiB/s, done.\n",
            "Resolving deltas: 100% (45/45), done.\n"
          ]
        }
      ]
    },
    {
      "cell_type": "code",
      "source": [
        "%ls"
      ],
      "metadata": {
        "colab": {
          "base_uri": "https://localhost:8080/"
        },
        "id": "bwk2dh-kFNEb",
        "outputId": "74a6d2ee-f6f4-4c51-eeac-6700b66b83eb"
      },
      "execution_count": null,
      "outputs": [
        {
          "output_type": "stream",
          "name": "stdout",
          "text": [
            "create_scene.cc   __init__.py            \u001b[0m\u001b[01;34mray_tracer_colab\u001b[0m/   \u001b[01;34msrc\u001b[0m/\n",
            "create_scene.h    libray_tracer_colab.a  ray_tracer_colab.o  \u001b[01;34mutils\u001b[0m/\n",
            "create_scene.pxd  LICENSE                Ray_Tracer.ipynb\n",
            "\u001b[01;34minclude\u001b[0m/          \u001b[01;34mpxd\u001b[0m/                   README.md\n"
          ]
        }
      ]
    },
    {
      "cell_type": "code",
      "metadata": {
        "id": "qb359-RwPwuE"
      },
      "source": [
        "# Generate platform dependent cython arguments.\n",
        "if sys.platform == 'darwin':\n",
        "  cython_sys_dep_args = [\n",
        "      '-c=-Wno-unreachable-code',\n",
        "      '-c=-Wp,-fopenmp',\n",
        "      '--link-args=-Wp,-fopenmp',\n",
        "      '--link-args=-lomp',\n",
        "  ]\n",
        "else:\n",
        "  cython_sys_dep_args = [\n",
        "      '-c=-fopenmp',\n",
        "      '--link-args=-fopenmp',\n",
        "  ]"
      ],
      "execution_count": null,
      "outputs": []
    },
    {
      "cell_type": "markdown",
      "metadata": {
        "id": "8YCUV1u1PWYR"
      },
      "source": [
        "## ray_tracer_colab library\n",
        "\n",
        "This contains all of the C++ sources for the ray tracer. If the C++ sources are modified, run this cell again to update `libray_tracer_colab.a`."
      ]
    },
    {
      "cell_type": "code",
      "metadata": {
        "id": "n7cZ1-jjkZwx"
      },
      "source": [
        "!g++ -O3 -fPIC -Iray_tracer_colab/include -std=c++17 -c ray_tracer_colab/src/scene.cc -o ray_tracer_colab.o\n",
        "!ar rcs libray_tracer_colab.a ray_tracer_colab.o"
      ],
      "execution_count": null,
      "outputs": []
    },
    {
      "cell_type": "markdown",
      "metadata": {
        "id": "6ddUp8cAfAkk"
      },
      "source": [
        "### create_scene.h"
      ]
    },
    {
      "cell_type": "code",
      "metadata": {
        "colab": {
          "base_uri": "https://localhost:8080/"
        },
        "id": "BP-HjeOrYWyL",
        "outputId": "6664ae0a-6d0d-41c8-afe1-d9d97dd2c846"
      },
      "source": [
        "%%file create_scene.h\n",
        "\n",
        "#ifndef CREATE_SCENE_H\n",
        "#define CREATE_SCENE_H\n",
        "\n",
        "#include <memory>\n",
        "\n",
        "#include \"hittable.h\"\n",
        "#include \"hittable_list.h\"\n",
        "\n",
        "hittable_list CreateRandomWorld();\n",
        "std::unique_ptr<hittable> CreateSphere();\n",
        "\n",
        "#endif  // CREATE_SCENE_H"
      ],
      "execution_count": null,
      "outputs": [
        {
          "output_type": "stream",
          "name": "stdout",
          "text": [
            "Writing create_scene.h\n"
          ]
        }
      ]
    },
    {
      "cell_type": "markdown",
      "metadata": {
        "id": "AsJUYEaFfEiW"
      },
      "source": [
        "### create_scene.cc"
      ]
    },
    {
      "cell_type": "code",
      "metadata": {
        "colab": {
          "base_uri": "https://localhost:8080/"
        },
        "id": "r7ZsyH2zaIff",
        "outputId": "541e0890-5d26-4782-9e7e-8117b0580360"
      },
      "source": [
        "%%file create_scene.cc\n",
        "\n",
        "#include \"create_scene.h\"\n",
        "\n",
        "#include <utility>\n",
        "\n",
        "#include \"color.h\"\n",
        "#include \"hittable_list.h\"\n",
        "#include \"material.h\"\n",
        "#include \"rtweekend.h\"\n",
        "#include \"sphere.h\"\n",
        "\n",
        "hittable_list CreateRandomWorld() {\n",
        "    hittable_list world;\n",
        "\n",
        "    auto ground_material = make_shared<lambertian>(color(0.5, 0.5, 0.5));\n",
        "    world.add(std::make_unique<sphere>(point3(0,-1000,0), 1000, ground_material));\n",
        "\n",
        "    for (int a = -11; a < 11; a++) {\n",
        "        for (int b = -11; b < 11; b++) {\n",
        "            auto choose_mat = random_double();\n",
        "            point3 center(a + 0.9*random_double(), 0.2, b + 0.9*random_double());\n",
        "\n",
        "            if ((center - point3(4, 0.2, 0)).length() > 0.9) {\n",
        "                shared_ptr<material> sphere_material;\n",
        "\n",
        "                if (choose_mat < 0.8) {\n",
        "                    // diffuse\n",
        "                    auto albedo = color::random() * color::random();\n",
        "                    sphere_material = make_shared<lambertian>(albedo);\n",
        "                    world.add(std::make_unique<sphere>(center, 0.2, sphere_material));\n",
        "                } else if (choose_mat < 0.95) {\n",
        "                    // metal\n",
        "                    auto albedo = color::random(0.5, 1);\n",
        "                    auto fuzz = random_double(0, 0.5);\n",
        "                    sphere_material = make_shared<metal>(albedo, fuzz);\n",
        "                    world.add(std::make_unique<sphere>(center, 0.2, sphere_material));\n",
        "                } else {\n",
        "                    // glass\n",
        "                    sphere_material = make_shared<dielectric>(1.5);\n",
        "                    world.add(std::make_unique<sphere>(center, 0.2, sphere_material));\n",
        "                }\n",
        "            }\n",
        "        }\n",
        "    }\n",
        "\n",
        "    auto material1 = make_shared<dielectric>(1.5);\n",
        "    world.add(std::make_unique<sphere>(point3(0, 1, 0), 1.0, material1));\n",
        "\n",
        "    auto material2 = make_shared<lambertian>(color(0.4, 0.2, 0.1));\n",
        "    world.add(std::make_unique<sphere>(point3(-4, 1, 0), 1.0, material2));\n",
        "\n",
        "    auto material3 = make_shared<metal>(color(0.7, 0.6, 0.5), 0.0);\n",
        "    world.add(std::make_unique<sphere>(point3(4, 1, 0), 1.0, material3));\n",
        "\n",
        "    return world;\n",
        "}\n",
        "\n",
        "std::unique_ptr<hittable> CreateSphere() {\n",
        "  auto material = make_shared<lambertian>(color(0.4, 0.2, 0.1));\n",
        "  return std::make_unique<sphere>(point3(0, 1, 0), 1.0, material);\n",
        "}"
      ],
      "execution_count": null,
      "outputs": [
        {
          "output_type": "stream",
          "name": "stdout",
          "text": [
            "Writing create_scene.cc\n"
          ]
        }
      ]
    },
    {
      "cell_type": "markdown",
      "metadata": {
        "id": "DOIBgQPwU7-f"
      },
      "source": [
        "### create_scene.pxd"
      ]
    },
    {
      "cell_type": "code",
      "metadata": {
        "colab": {
          "base_uri": "https://localhost:8080/"
        },
        "id": "qoElZg3PsjBN",
        "outputId": "349c2fbd-6211-45c2-f844-1307d6fae48a"
      },
      "source": [
        "%%file create_scene.pxd\n",
        "\n",
        "from libcpp.memory cimport unique_ptr\n",
        "\n",
        "from ray_tracer_colab.pxd.hittable cimport hittable\n",
        "from ray_tracer_colab.pxd.hittable_list cimport hittable_list\n",
        "\n",
        "cdef extern from 'create_scene.h':\n",
        "  hittable_list CreateRandomWorld()\n",
        "  unique_ptr[hittable] CreateSphere()"
      ],
      "execution_count": null,
      "outputs": [
        {
          "output_type": "stream",
          "name": "stdout",
          "text": [
            "Writing create_scene.pxd\n"
          ]
        }
      ]
    },
    {
      "cell_type": "markdown",
      "metadata": {
        "id": "PLH80_3e6VI1"
      },
      "source": [
        "### Run"
      ]
    },
    {
      "cell_type": "code",
      "metadata": {
        "colab": {
          "base_uri": "https://localhost:8080/",
          "height": 336,
          "referenced_widgets": [
            "20ff9caf1282475e86f9fa98e3c026c6",
            "69596925aa864101a25b70392acfe350",
            "e90afa30c92c44a8af18ddf4dc46866f",
            "c3813c52939644bbb7fbd05c5705b12a",
            "a0e4d9406b2f4806917c54cf67dec46a",
            "718beb864e12401294693a29e26e26d5",
            "ba7494e0b6ba44f2bfd663cfccde6ebc",
            "4040914b80944add9615bd761e1b7d62",
            "f38c2047ab774e71b0da0e1b31fd487f",
            "49f7d6e3341c4c4d8ed7d68bcaf4601c",
            "2e4d951f0c024a5794ca1c19b9f43fb6"
          ]
        },
        "id": "EnG72WLRdhTg",
        "outputId": "598f552e-98f1-4a48-a4e4-723b4747a811"
      },
      "source": [
        "%%cython --verbose -3 -I. -Iray_tracer_colab/include -f -c=-std=c++17 --cplus -S create_scene.cc -L. -lray_tracer_colab {' '.join(cython_sys_dep_args)}\n",
        "\n",
        "import cython\n",
        "import numpy as np\n",
        "import time\n",
        "\n",
        "from IPython import display\n",
        "from PIL import Image\n",
        "from cython.parallel import prange, threadid\n",
        "from tqdm.notebook import tqdm\n",
        "\n",
        "from ray_tracer_colab.utils.preview_display import PreviewDisplay\n",
        "\n",
        "from libc.stdint cimport uint8_t\n",
        "from libcpp.memory cimport unique_ptr\n",
        "from libcpp.utility cimport move\n",
        "\n",
        "from ray_tracer_colab.pxd.camera cimport Camera\n",
        "from ray_tracer_colab.pxd.hittable cimport hittable\n",
        "from ray_tracer_colab.pxd.hittable_list cimport hittable_list\n",
        "from ray_tracer_colab.pxd.scene cimport Scene\n",
        "from ray_tracer_colab.pxd.vec3 cimport vec3\n",
        "from create_scene cimport CreateRandomWorld\n",
        "\n",
        "\n",
        "cdef Scene create_scene(int image_width, int image_height):\n",
        "  cdef vec3 lookfrom = vec3(13, 2, 3)\n",
        "  cdef vec3 lookat = vec3(0, 0, 0)\n",
        "  cdef vec3 vup = vec3(0, 1, 0)\n",
        "  cdef double vfov_deg = 5.0\n",
        "  cdef double aperture = 0.1\n",
        "  cdef double aspect_ratio = image_width / image_height\n",
        "  cdef double dist_to_focus = 20.0\n",
        "  cdef Camera camera = Camera(\n",
        "      lookfrom, lookat, vup, \n",
        "      vfov_deg, aspect_ratio, aperture, \n",
        "      dist_to_focus, 0.0, 0.0)\n",
        "  # TODO: Next is to create the random world in Cython.\n",
        "  return Scene(image_width, image_height, 10, 50, CreateRandomWorld(),\n",
        "               move(camera))\n",
        "\n",
        "\n",
        "def run_parallel(int image_width, int image_height):\n",
        "  # Create the bytearray to hold the ray tracer output.\n",
        "  cdef bytearray buffer = bytearray(image_width * image_height * 3)\n",
        "  # We need to explicitly declare a uint8_t pointer because we cannot access\n",
        "  # bytearray within prange().\n",
        "  cdef uint8_t* ptr = buffer\n",
        "  cdef uint8_t* line\n",
        "\n",
        "  cdef Py_ssize_t y\n",
        "  cdef Scene scene = create_scene(image_width, image_height)\n",
        "\n",
        "  progress_bar = tqdm(total=image_height)\n",
        "  preview = PreviewDisplay(every_n_sec=10.0, image_width=image_width,\n",
        "                           image_height=image_height)\n",
        "\n",
        "  # 'dynamic' schedule allows each thread to pick one line at a time, and thus\n",
        "  # makes sure all threads will be busy for the entire image.\n",
        "  for y in prange(image_height, nogil=True, schedule='dynamic'):\n",
        "    with gil:\n",
        "      progress_bar.update(1)\n",
        "      preview.maybe_update(buffer)\n",
        "    # The row 0 in a PIL Image buffer is at the top, while in our image space\n",
        "    # y = 0 is the bottom row, so we flip it here to find the pointer to the\n",
        "    # correct output line.\n",
        "    line = ptr + (image_height - y - 1) * image_width * 3\n",
        "    scene.RenderLine(y, line)\n",
        "\n",
        "  # Final update to progress bar and preview image.\n",
        "  progress_bar.close()\n",
        "  preview.update(buffer)\n",
        "  return preview.get_image()\n",
        "\n",
        "#run_parallel(1200, 645)\n",
        "run_parallel(240, 180)\n",
        "#print(test(240, 180))"
      ],
      "execution_count": null,
      "outputs": [
        {
          "output_type": "stream",
          "name": "stdout",
          "text": [
            "[1/1] Cythonizing /root/.cache/ipython/cython/_cython_magic_d11b75ee326c59cd7c9bf9f4afe2a877.pyx\n",
            "building '_cython_magic_d11b75ee326c59cd7c9bf9f4afe2a877' extension\n",
            "x86_64-linux-gnu-gcc -pthread -Wno-unused-result -Wsign-compare -DNDEBUG -g -fwrapv -O2 -Wall -g -fstack-protector-strong -Wformat -Werror=format-security -g -fwrapv -O2 -g -fstack-protector-strong -Wformat -Werror=format-security -Wdate-time -D_FORTIFY_SOURCE=2 -fPIC -I. -Iray_tracer_colab/include -I/usr/local/lib/python3.8/dist-packages/numpy/core/include -I/usr/include/python3.8 -c /root/.cache/ipython/cython/_cython_magic_d11b75ee326c59cd7c9bf9f4afe2a877.cpp -o /root/.cache/ipython/cython/root/.cache/ipython/cython/_cython_magic_d11b75ee326c59cd7c9bf9f4afe2a877.o -std=c++17 -fopenmp\n",
            "x86_64-linux-gnu-gcc -pthread -Wno-unused-result -Wsign-compare -DNDEBUG -g -fwrapv -O2 -Wall -g -fstack-protector-strong -Wformat -Werror=format-security -g -fwrapv -O2 -g -fstack-protector-strong -Wformat -Werror=format-security -Wdate-time -D_FORTIFY_SOURCE=2 -fPIC -I. -Iray_tracer_colab/include -I/usr/local/lib/python3.8/dist-packages/numpy/core/include -I/usr/include/python3.8 -c create_scene.cc -o /root/.cache/ipython/cython/create_scene.o -std=c++17 -fopenmp\n",
            "x86_64-linux-gnu-g++ -pthread -shared -Wl,-O1 -Wl,-Bsymbolic-functions -Wl,-Bsymbolic-functions -g -fwrapv -O2 -Wl,-Bsymbolic-functions -g -fwrapv -O2 -g -fstack-protector-strong -Wformat -Werror=format-security -Wdate-time -D_FORTIFY_SOURCE=2 /root/.cache/ipython/cython/root/.cache/ipython/cython/_cython_magic_d11b75ee326c59cd7c9bf9f4afe2a877.o /root/.cache/ipython/cython/create_scene.o -L. -lray_tracer_colab -o /root/.cache/ipython/cython/_cython_magic_d11b75ee326c59cd7c9bf9f4afe2a877.cpython-38-x86_64-linux-gnu.so -fopenmp\n"
          ]
        },
        {
          "output_type": "display_data",
          "data": {
            "text/plain": [
              "  0%|          | 0/180 [00:00<?, ?it/s]"
            ],
            "application/vnd.jupyter.widget-view+json": {
              "version_major": 2,
              "version_minor": 0,
              "model_id": "20ff9caf1282475e86f9fa98e3c026c6"
            }
          },
          "metadata": {}
        },
        {
          "output_type": "display_data",
          "data": {
            "text/plain": [
              "<PIL.Image.Image image mode=RGB size=240x180 at 0x7F273159FC70>"
            ],
            "image/png": "[encoded data removed]"
          },
          "metadata": {}
        }
      ]
    },
    {
      "cell_type": "markdown",
      "source": [
        "# Ray Tracing in a Weekend (Colab)"
      ],
      "metadata": {
        "id": "J-N8JjwS7KWs"
      }
    },
    {
      "cell_type": "markdown",
      "metadata": {
        "id": "MHTeHSQLMShX"
      },
      "source": [
        "**bold text**## Reload local modules\n",
        "\n",
        "This is needed to reload the modified Python modules from the local directory."
      ]
    },
    {
      "cell_type": "code",
      "metadata": {
        "id": "3KXeuTX1VvoJ",
        "colab": {
          "base_uri": "https://localhost:8080/"
        },
        "outputId": "ae7a3fd8-82cf-4fc5-b5b4-5017d46294fc"
      },
      "source": [
        "from importlib import reload\n",
        "import utils.preview_display\n",
        "reload(utils.preview_display)"
      ],
      "execution_count": null,
      "outputs": [
        {
          "output_type": "execute_result",
          "data": {
            "text/plain": [
              "<module 'utils.preview_display' from '/content/ray_tracer_colab/utils/preview_display.py'>"
            ]
          },
          "metadata": {},
          "execution_count": 14
        }
      ]
    },
    {
      "cell_type": "code",
      "source": [],
      "metadata": {
        "id": "19BougjXN_4n"
      },
      "execution_count": null,
      "outputs": []
    },
    {
      "cell_type": "markdown",
      "source": [
        "**Ray Trace in One Weekend in Google Colab**"
      ],
      "metadata": {
        "id": "0D47MBaaUIyx"
      }
    },
    {
      "cell_type": "markdown",
      "source": [
        "### main.cc"
      ],
      "metadata": {
        "id": "YQ_XzwxIgg29"
      }
    },
    {
      "cell_type": "code",
      "source": [
        "%%file main.cc\n",
        "\n",
        "#include <iostream>\n",
        "int main(){\n",
        "    \n",
        "    // Image\n",
        "    const int image_width = 8;\n",
        "    const int image_height = 8;\n",
        "\n",
        "    std::cout << \"P3\\n\" << image_width << ' ' << image_height << \"\\n255\\n\";\n",
        "    for (int j = image_height -1; j>= 0; --j){\n",
        "        for (int i = 0; i < image_width; i++){\n",
        "            auto r = double(i) / (image_width-1);\n",
        "            auto g = double(j) / (image_width-1);\n",
        "            auto b = 0.25;\n",
        "\n",
        "            int ir = static_cast<int>(255.999*r);\n",
        "            int ig = static_cast<int>(255.999*g);\n",
        "            int ib = static_cast<int>(255.999*b);\n",
        "\n",
        "            //std::cout << ir << ' ' << ig << ' ' << ib << '\\n';\n",
        "            std::cout << ir << ' ';\n",
        "        }\n",
        "        std::cout << \"\\n\";\n",
        "    }\n",
        "    return 0;\n",
        "}"
      ],
      "metadata": {
        "colab": {
          "base_uri": "https://localhost:8080/"
        },
        "id": "9vpvZZs8UROO",
        "outputId": "5f9e75bc-6f42-4553-c6a8-8e43efd9fd1f"
      },
      "execution_count": null,
      "outputs": [
        {
          "output_type": "stream",
          "name": "stdout",
          "text": [
            "Writing main.cc\n"
          ]
        }
      ]
    },
    {
      "cell_type": "markdown",
      "source": [
        "### Run"
      ],
      "metadata": {
        "id": "86MYlUmyOSRT"
      }
    },
    {
      "cell_type": "code",
      "source": [
        "%%cython --verbose -3 -I. -Iray_tracer_colab/include -f -c=-std=c++17 --cplus -S main.cc -L. -lray_tracer_colab {' '.join(cython_sys_dep_args)}\n",
        "\n",
        "import cython\n",
        "from main cimport main\n",
        "\n",
        "main()"
      ],
      "metadata": {
        "id": "F4nnDOyJOT9-"
      },
      "execution_count": null,
      "outputs": []
    },
    {
      "cell_type": "code",
      "metadata": {
        "id": "oX-PXyIpMjqP",
        "colab": {
          "base_uri": "https://localhost:8080/"
        },
        "outputId": "7a46aab1-82a4-46c5-9e19-a861cccfb245"
      },
      "source": [
        "# compile and run \n",
        "! g++ main.cc -o introRayTrace\n",
        "! ./introRayTrace"
      ],
      "execution_count": null,
      "outputs": [
        {
          "output_type": "stream",
          "name": "stdout",
          "text": [
            "P3\n",
            "8 8\n",
            "255\n",
            "0 36 73 109 146 182 219 255 \n",
            "0 36 73 109 146 182 219 255 \n",
            "0 36 73 109 146 182 219 255 \n",
            "0 36 73 109 146 182 219 255 \n",
            "0 36 73 109 146 182 219 255 \n",
            "0 36 73 109 146 182 219 255 \n",
            "0 36 73 109 146 182 219 255 \n",
            "0 36 73 109 146 182 219 255 \n"
          ]
        }
      ]
    },
    {
      "cell_type": "markdown",
      "source": [
        "### vec3.h"
      ],
      "metadata": {
        "id": "S3mFExsBZzyN"
      }
    },
    {
      "cell_type": "code",
      "source": [
        "%%file vec3.h\n",
        "\n",
        "#ifndef VEC3_H\n",
        "#define VEC3_H\n",
        "\n",
        "#include <cmath>\n",
        "#include <iostream>\n",
        "\n",
        "using std::sqrt;\n",
        "\n",
        "class vec3 {\n",
        "    public:\n",
        "        vec3() : e{0,0,0} {}\n",
        "        vec3(double e0, double e1, double e2) : e{e0,e1,e2} {}\n",
        "\n",
        "        double x() const { return e[0]; }\n",
        "        double y() const { return e[1]; }\n",
        "        double z() const { return e[2]; }\n",
        "\n",
        "        vec3 operator-() const { return vec3(-e[0], -e[1], -e[2]); }\n",
        "        double operator[](int i) const { return e[i]; }\n",
        "        double& operator[](int i) { return e[i]; }\n",
        "\n",
        "        vec3& operator+=(const vec3 &v) {\n",
        "            e[0] += v.e[0];\n",
        "            e[1] += v.e[1];\n",
        "            e[2] += v.e[2];\n",
        "            return *this;\n",
        "        }\n",
        "\n",
        "        vec3& operator*=(const double t) {\n",
        "            e[0] *= t;\n",
        "            e[1] *= t;\n",
        "            e[2] *= t;\n",
        "            return *this;\n",
        "        }\n",
        "\n",
        "        vec3& operator/=(const double t){\n",
        "            return *this *= 1/t;\n",
        "        }\n",
        "        double length() const {\n",
        "            return sqrt(length_squared());\n",
        "        }\n",
        "        double length_squared() const {\n",
        "            return e[0]*e[0] + e[1]*e[1] + e[2]*e[2];\n",
        "        }\n",
        "\n",
        "    public:\n",
        "        double e[3];\n",
        "\n",
        "};\n",
        "\n",
        "// vec3 Utility Functions \n",
        "\n",
        "inline std::ostream& operator<<(std::ostream &out, const vec3 &v){\n",
        "    return out << v.e[0] << ' ' << v.e[1] << ' ' << v.e[2];\n",
        "}\n",
        "inline vec3 operator+(const vec3 &u, const vec3 &v){\n",
        "    return vec3(u.e[0] + v.e[0], u.e[1] + v.e[1], u.e[2] + v.e[2]);\n",
        "}\n",
        "inline vec3 operator-(const vec3 &u, const vec3 &v){\n",
        "    return vec3(u.e[0] - v.e[0], u.e[1] - v.e[1], u.e[2] - v.e[2]);\n",
        "}\n",
        "inline vec3 operator*(const vec3 &u, const vec3 &v){\n",
        "    return vec3(u.e[0] * v.e[0], u.e[1] * v.e[1], u.e[2] * v.e[2]);\n",
        "}\n",
        "inline vec3 operator*(double t, const vec3 &v){\n",
        "    return vec3(t * v.e[0], t * v.e[1], t * v.e[2]);\n",
        "}\n",
        "inline vec3 operator*(const vec3 &v, double t){\n",
        "    return t * v;\n",
        "}\n",
        "inline vec3 operator/(vec3 v, double t){\n",
        "    return (1/t) * v;\n",
        "}\n",
        "inline double dot(const vec3 &u, const vec3 &v){\n",
        "    return u.e[0] * v.e[0] + u.e[1] * v.e[1] + u.e[2] * v.e[2];\n",
        "}\n",
        "inline vec3 cross(const vec3 &u, const vec3 &v){\n",
        "    return vec3(u.e[1]*v.e[2] - u.e[2]*v.e[1],\n",
        "                u.e[2]*v.e[9] - u.e[0]*v.e[2],\n",
        "                u.e[0]*v.e[1] - u.e[1]*v.e[0]);\n",
        "}\n",
        "inline vec3 unit_vector(vec3 v){\n",
        "    return v / v.length();\n",
        "}\n",
        "// Type aliases for vec3\n",
        "using point3 = vec3;    // 3D point\n",
        "using color = vec3;    // RGB color\n",
        "\n",
        "#endif"
      ],
      "metadata": {
        "colab": {
          "base_uri": "https://localhost:8080/"
        },
        "id": "YWtXbpXbVzfb",
        "outputId": "c13c8c57-7425-4806-e837-dacded8733c3"
      },
      "execution_count": null,
      "outputs": [
        {
          "output_type": "stream",
          "name": "stdout",
          "text": [
            "Writing vec3.h\n"
          ]
        }
      ]
    },
    {
      "cell_type": "markdown",
      "source": [
        "### color.h"
      ],
      "metadata": {
        "id": "6Dykbf--uq7L"
      }
    },
    {
      "cell_type": "code",
      "source": [
        "%%file color.h\n",
        "\n",
        "#ifndef COLOR_H\n",
        "#define COLOR_H\n",
        "\n",
        "#include \"vec3.h\"\n",
        "\n",
        "#include <iostream>\n",
        "\n",
        "void write_greyscale(std::ostream &out, color pixel_color){\n",
        "    // Write single channel component \n",
        "    out << static_cast<int>(255.999 * pixel_color.x()) << ' ';\n",
        "}\n",
        "\n",
        "void write_color(std::ostream &out, color pixel_color){\n",
        "    // Write the translated [0, 255] value of each color component \n",
        "    out << static_cast<int>(255.999 * pixel_color.x()) << ' '\n",
        "        << static_cast<int>(255.999 * pixel_color.y()) << ' '\n",
        "        << static_cast<int>(255.999 * pixel_color.z()) << '\\n';\n",
        "}\n",
        "#endif"
      ],
      "metadata": {
        "colab": {
          "base_uri": "https://localhost:8080/"
        },
        "id": "TcjOqM2zn6vg",
        "outputId": "819ec548-08a9-4284-e804-9dc4360232dc"
      },
      "execution_count": null,
      "outputs": [
        {
          "output_type": "stream",
          "name": "stdout",
          "text": [
            "Writing color.h\n"
          ]
        }
      ]
    },
    {
      "cell_type": "code",
      "source": [
        "%%file mainOneWkndRayTraceCh3.cc\n",
        "\n",
        "#include \"color.h\"\n",
        "#include \"vec3.h\"\n",
        "\n",
        "#include <iostream>\n",
        "\n",
        "int main(){\n",
        "    \n",
        "    // Image\n",
        "\n",
        "    const int image_width = 8;\n",
        "    const int image_height = 8;\n",
        "\n",
        "    // Render\n",
        "    std::cout << \"P3\\n\" << image_width << ' ' << image_height << \"\\n255\\n\";\n",
        "\n",
        "    for (int j = image_height-1; j>=0; --j){\n",
        "      for (int i = 0; i < image_width; ++i){\n",
        "          color pixel_color(double(i)/(image_width-1), double(j)/(image_height-1), 0.25);\n",
        "          //write_color(std::cout, pixel_color);\n",
        "          write_greyscale(std::cout, pixel_color);   // single channel\n",
        "      }\n",
        "      std::cout << \"\\n\";\n",
        "    }\n",
        "}"
      ],
      "metadata": {
        "colab": {
          "base_uri": "https://localhost:8080/"
        },
        "id": "pntHceLjv1tY",
        "outputId": "bfafcd83-b983-404f-f0a6-0b8430f88784"
      },
      "execution_count": null,
      "outputs": [
        {
          "output_type": "stream",
          "name": "stdout",
          "text": [
            "Writing mainOneWkndRayTraceCh3.cc\n"
          ]
        }
      ]
    },
    {
      "cell_type": "code",
      "source": [
        "# compile and run \n",
        "! g++ mainOneWkndRayTraceCh3.cc -o OneWkndRayTraceCh3\n",
        "! ./OneWkndRayTraceCh3"
      ],
      "metadata": {
        "colab": {
          "base_uri": "https://localhost:8080/"
        },
        "id": "RsVHDMHAyI7e",
        "outputId": "aaabf6e5-3cd3-4e1f-d4fe-3c32bf29179c"
      },
      "execution_count": null,
      "outputs": [
        {
          "output_type": "stream",
          "name": "stdout",
          "text": [
            "P3\n",
            "8 8\n",
            "255\n",
            "0 36 73 109 146 182 219 255 \n",
            "0 36 73 109 146 182 219 255 \n",
            "0 36 73 109 146 182 219 255 \n",
            "0 36 73 109 146 182 219 255 \n",
            "0 36 73 109 146 182 219 255 \n",
            "0 36 73 109 146 182 219 255 \n",
            "0 36 73 109 146 182 219 255 \n",
            "0 36 73 109 146 182 219 255 \n"
          ]
        }
      ]
    },
    {
      "cell_type": "markdown",
      "source": [
        "### ray.h"
      ],
      "metadata": {
        "id": "QDYuCEGS3m3X"
      }
    },
    {
      "cell_type": "code",
      "source": [
        "%%file ray.h\n",
        "\n",
        "#ifndef RAY_H\n",
        "#define RAY_H\n",
        "\n",
        "#include \"vec3.h\"\n",
        "\n",
        "class ray {\n",
        "    public:\n",
        "        ray() {}\n",
        "        ray(const point3& origin, const vec3& direction)\n",
        "          : orig(origin), dir(direction) \n",
        "        {}\n",
        "\n",
        "        point3 origin() const { return orig; }\n",
        "        vec3 direction() const { return dir; }\n",
        "\n",
        "        point3 at(double t) const {\n",
        "            return orig + t*dir;\n",
        "        }\n",
        "    \n",
        "    public:\n",
        "        point3 orig;\n",
        "        vec3 dir;\n",
        "};\n",
        "\n",
        "#endif"
      ],
      "metadata": {
        "colab": {
          "base_uri": "https://localhost:8080/"
        },
        "id": "5iPeGpBQ4Wod",
        "outputId": "c5e47a8d-6655-4d3a-de3c-42661559e3b1"
      },
      "execution_count": null,
      "outputs": [
        {
          "output_type": "stream",
          "name": "stdout",
          "text": [
            "Writing ray.h\n"
          ]
        }
      ]
    },
    {
      "cell_type": "markdown",
      "source": [
        "## mainOneWkndRayTraceCh3.cc"
      ],
      "metadata": {
        "id": "_BeddSL97qVc"
      }
    },
    {
      "cell_type": "code",
      "source": [
        "%%file mainOneWkndRayTraceCh4.cc\n",
        "\n",
        "//#define STB_IMAGE_IMPLEMENTATION\n",
        "//#include \"stb_image.h\"\n",
        "#include \"color.h\"\n",
        "#include \"ray.h\"\n",
        "#include \"vec3.h\"\n",
        "\n",
        "#include <iostream>\n",
        "\n",
        "color ray_color(const ray& r){\n",
        "    vec3 unit_direction = unit_vector(r.direction());\n",
        "    auto t = 0.5*(unit_direction.y() + 1.0);\n",
        "    // blendedValue = (1 - t) * startValue + t * endValue\n",
        "    return (1.0-t)*color(1.0, 1.0, 1.0) + t*color(0.5, 0.7, 1.0); \n",
        "}\n",
        "\n",
        "int main(){\n",
        "    \n",
        "    // Image\n",
        "    const auto aspect_ratio = 16.0 / 9.0;\n",
        "    const int image_width = 16;\n",
        "    const int image_height = static_cast<int>(image_width / aspect_ratio);\n",
        "\n",
        "    // Camera\n",
        "\n",
        "    auto viewport_height = 2.0;\n",
        "    auto viewport_width = aspect_ratio * viewport_height;\n",
        "    auto focal_length = 1.0;\n",
        "\n",
        "    auto origin = point3(0, 0, 0);\n",
        "    auto horizontal = vec3(viewport_width, 0, 0);\n",
        "    auto vertical = vec3(0, viewport_height, 0);\n",
        "    auto lower_left_corner = origin - horizontal/2 - vertical/2 - vec3(0, 0, focal_length);\n",
        "\n",
        "    // Render\n",
        "\n",
        "    std::cout << \"P3\\n\" << image_width << \" \" << image_height << \"\\n255\\n\";\n",
        "\n",
        "    for (int j = image_height-1; j>=0; --j){\n",
        "      for(int i=0;i<image_width;++i){\n",
        "          auto u = double(i) / (image_width-1);\n",
        "          auto v = double(j) / (image_height-1);\n",
        "          ray r(origin, lower_left_corner + u*horizontal + v*vertical - origin);\n",
        "          color pixel_color = ray_color(r);\n",
        "          //write_color(std::cout, pixel_color);\n",
        "          write_greyscale(std::cout, pixel_color);      // single channel\n",
        "      }\n",
        "      std::cout << \"\\n\";\n",
        "    }\n",
        "}"
      ],
      "metadata": {
        "colab": {
          "base_uri": "https://localhost:8080/"
        },
        "id": "lvTP5Bzw7tLa",
        "outputId": "0c78311e-46f3-40eb-b8f7-9e5f63189d73"
      },
      "execution_count": null,
      "outputs": [
        {
          "output_type": "stream",
          "name": "stdout",
          "text": [
            "Writing mainOneWkndRayTraceCh4.cc\n"
          ]
        }
      ]
    },
    {
      "cell_type": "markdown",
      "source": [
        "## Writing mainOneWkndRayTraceCh4.cc"
      ],
      "metadata": {
        "id": "42ABsHckEgC3"
      }
    },
    {
      "cell_type": "code",
      "source": [
        "# compile and run \n",
        "! g++ mainOneWkndRayTraceCh4.cc -o OneWkndRayTraceCh4\n",
        "! ./OneWkndRayTraceCh4"
      ],
      "metadata": {
        "colab": {
          "base_uri": "https://localhost:8080/"
        },
        "id": "Ug-Iwz2-EsxM",
        "outputId": "fd3b9d7e-ea1a-46ef-dee8-3947d31cc1b0"
      },
      "execution_count": null,
      "outputs": [
        {
          "output_type": "stream",
          "name": "stdout",
          "text": [
            "P3\n",
            "16 9\n",
            "255\n",
            "163 161 158 155 152 150 148 146 146 148 150 152 155 158 161 163 \n",
            "169 167 165 162 160 157 155 153 153 155 157 160 162 165 167 169 \n",
            "176 175 173 171 169 166 164 163 163 164 166 169 171 173 175 176 \n",
            "184 183 182 181 179 178 177 176 176 177 178 179 181 182 183 184 \n",
            "191 191 191 191 191 191 191 191 191 191 191 191 191 191 191 191 \n",
            "199 200 201 202 204 205 206 207 207 206 205 204 202 201 200 199 \n",
            "207 208 210 212 214 217 219 220 220 219 217 214 212 210 208 207 \n",
            "214 216 218 221 223 226 228 230 230 228 226 223 221 218 216 214 \n",
            "220 222 225 228 231 233 235 237 237 235 233 231 228 225 222 220 \n"
          ]
        }
      ]
    },
    {
      "cell_type": "markdown",
      "source": [
        "Adding a Sphere\n",
        "\n",
        "## mainOneWkndRayTraceCh5.cc\n",
        "\n"
      ],
      "metadata": {
        "id": "5Fpy_XYkdrvR"
      }
    },
    {
      "cell_type": "code",
      "source": [
        "%%file mainOneWkndRayTraceCh5.cc\n",
        "\n",
        "//#define STB_IMAGE_IMPLEMENTATION\n",
        "//#include \"stb_image.h\"\n",
        "#include \"color.h\"\n",
        "#include \"ray.h\"\n",
        "#include \"vec3.h\"\n",
        "\n",
        "#include <iostream>\n",
        "\n",
        "bool hit_sphere(const point3& center, double radius, const ray& r) {\n",
        "    vec3 oc = r.origin() - center;\n",
        "    auto a = dot(r.direction(), r.direction());\n",
        "    auto b = 2.0 * dot(oc, r.direction());\n",
        "    auto c = dot(oc, oc) - radius*radius;\n",
        "    auto discriminant = b*b - 4*a*c;\n",
        "    return (discriminant > 0);\n",
        "}\n",
        "\n",
        "color ray_color(const ray& r){\n",
        "    if (hit_sphere(point3(0,0,-1), 0.5, r))\n",
        "        return color(1,0,0);\n",
        "    vec3 unit_direction = unit_vector(r.direction());\n",
        "    auto t = 0.5*(unit_direction.y() + 1.0);\n",
        "    // blendedValue = (1 - t) * startValue + t * endValue\n",
        "    return (1.0-t)*color(1.0, 1.0, 1.0) + t*color(0.5, 0.7, 1.0); \n",
        "}\n",
        "\n",
        "int main(){\n",
        "    \n",
        "    // Image\n",
        "    const auto aspect_ratio = 16.0 / 9.0;\n",
        "    const int image_width = 16;\n",
        "    const int image_height = static_cast<int>(image_width / aspect_ratio);\n",
        "\n",
        "    // Camera\n",
        "\n",
        "    auto viewport_height = 2.0;\n",
        "    auto viewport_width = aspect_ratio * viewport_height;\n",
        "    auto focal_length = 1.0;\n",
        "\n",
        "    auto origin = point3(0, 0, 0);\n",
        "    auto horizontal = vec3(viewport_width, 0, 0);\n",
        "    auto vertical = vec3(0, viewport_height, 0);\n",
        "    auto lower_left_corner = origin - horizontal/2 - vertical/2 - vec3(0, 0, focal_length);\n",
        "\n",
        "    // Render\n",
        "\n",
        "    std::cout << \"P3\\n\" << image_width << \" \" << image_height << \"\\n255\\n\";\n",
        "\n",
        "    for (int j = image_height-1; j>=0; --j){\n",
        "      for(int i=0;i<image_width;++i){\n",
        "          auto u = double(i) / (image_width-1);\n",
        "          auto v = double(j) / (image_height-1);\n",
        "          ray r(origin, lower_left_corner + u*horizontal + v*vertical - origin);\n",
        "          color pixel_color = ray_color(r);\n",
        "          //write_color(std::cout, pixel_color);\n",
        "          write_greyscale(std::cout, pixel_color);      // single channel\n",
        "      }\n",
        "      std::cout << \"\\n\";\n",
        "    }\n",
        "}"
      ],
      "metadata": {
        "colab": {
          "base_uri": "https://localhost:8080/"
        },
        "id": "UJSiUASJVlUO",
        "outputId": "a9adbdc2-8310-4ed8-9656-c3db73a51cfb"
      },
      "execution_count": null,
      "outputs": [
        {
          "output_type": "stream",
          "name": "stdout",
          "text": [
            "Writing mainOneWkndRayTraceCh5.cc\n"
          ]
        }
      ]
    },
    {
      "cell_type": "code",
      "source": [
        "# compile and run \n",
        "! g++ mainOneWkndRayTraceCh5.cc -o OneWkndRayTraceCh5\n",
        "! ./OneWkndRayTraceCh5"
      ],
      "metadata": {
        "colab": {
          "base_uri": "https://localhost:8080/"
        },
        "id": "LoJE5wdWiZ_x",
        "outputId": "1e3ecfba-bab3-4ff4-db77-3a038fca9335"
      },
      "execution_count": null,
      "outputs": [
        {
          "output_type": "stream",
          "name": "stdout",
          "text": [
            "P3\n",
            "16 9\n",
            "255\n",
            "163 161 158 155 152 150 148 146 146 148 150 152 155 158 161 163 \n",
            "169 167 165 162 160 157 155 153 153 155 157 160 162 165 167 169 \n",
            "176 175 173 171 169 166 164 255 255 164 166 169 171 173 175 176 \n",
            "184 183 182 181 179 178 255 255 255 255 178 179 181 182 183 184 \n",
            "191 191 191 191 191 191 255 255 255 255 191 191 191 191 191 191 \n",
            "199 200 201 202 204 205 255 255 255 255 205 204 202 201 200 199 \n",
            "207 208 210 212 214 217 219 255 255 219 217 214 212 210 208 207 \n",
            "214 216 218 221 223 226 228 230 230 228 226 223 221 218 216 214 \n",
            "220 222 225 228 231 233 235 237 237 235 233 231 228 225 222 220 \n"
          ]
        }
      ]
    },
    {
      "cell_type": "markdown",
      "source": [
        "## 6. Surface Normals and Multiple Objects\n",
        "\n",
        "mainOneWkndRayTraceCh6.cc"
      ],
      "metadata": {
        "id": "_KykMUo8asff"
      }
    },
    {
      "cell_type": "code",
      "source": [
        "%%file mainOneWkndRayTraceCh6.cc\n",
        "\n",
        "#include \"color.h\"\n",
        "#include \"ray.h\"\n",
        "#include \"vec3.h\"\n",
        "\n",
        "#include <iostream>\n",
        "\n",
        "bool hit_sphere(const point3& center, double radius, const ray& r) {\n",
        "    vec3 oc = r.origin() - center;\n",
        "    auto a = dot(r.direction(), r.direction());\n",
        "    auto b = 2.0 * dot(oc, r.direction());\n",
        "    auto c = dot(oc, oc) - radius*radius;\n",
        "    auto discriminant = b*b - 4*a*c;\n",
        "    if (discriminant < 0){\n",
        "        return -1.0;\n",
        "    }\n",
        "    else{\n",
        "        return (-b-sqrt(discriminant)/(2*a));\n",
        "    }\n",
        "}\n",
        "\n",
        "color ray_color(const ray& r){\n",
        "    auto t = hit_sphere(point3(0,0,-1),0.5,r);\n",
        "    if (t>0){\n",
        "        vec3 N = unit_vector(r.at(t)-vec3(0,0,-1));\n",
        "        return 0.5*color(N.x()+1,N.y()+1,N.z()+1);\n",
        "    }\n",
        "    vec3 unit_direction = unit_vector(r.direction());\n",
        "    t = 0.5*(unit_direction.y() + 1.0);\n",
        "    // blendedValue = (1 - t) * startValue + t * endValue\n",
        "    return (1.0-t)*color(1.0, 1.0, 1.0) + t*color(0.5, 0.7, 1.0); \n",
        "}\n",
        "\n",
        "int main(){\n",
        "    \n",
        "    // Image\n",
        "    const auto aspect_ratio = 16.0 / 9.0;\n",
        "    const int image_width = 16;\n",
        "    const int image_height = static_cast<int>(image_width / aspect_ratio);\n",
        "\n",
        "    // Camera\n",
        "\n",
        "    auto viewport_height = 2.0;\n",
        "    auto viewport_width = aspect_ratio * viewport_height;\n",
        "    auto focal_length = 1.0;\n",
        "\n",
        "    auto origin = point3(0, 0, 0);\n",
        "    auto horizontal = vec3(viewport_width, 0, 0);\n",
        "    auto vertical = vec3(0, viewport_height, 0);\n",
        "    auto lower_left_corner = origin - horizontal/2 - vertical/2 - vec3(0, 0, focal_length);\n",
        "\n",
        "    // Render\n",
        "\n",
        "    std::cout << \"P3\\n\" << image_width << \" \" << image_height << \"\\n255\\n\";\n",
        "\n",
        "    for (int j = image_height-1; j>=0; --j){\n",
        "      for(int i=0;i<image_width;++i){\n",
        "          auto u = double(i) / (image_width-1);\n",
        "          auto v = double(j) / (image_height-1);\n",
        "          ray r(origin, lower_left_corner + u*horizontal + v*vertical - origin);\n",
        "          color pixel_color = ray_color(r);\n",
        "          //write_color(std::cout, pixel_color);\n",
        "          write_greyscale(std::cout, pixel_color);      // single channel\n",
        "      }\n",
        "      std::cout << \"\\n\";\n",
        "    }\n",
        "}"
      ],
      "metadata": {
        "colab": {
          "base_uri": "https://localhost:8080/"
        },
        "id": "6K0R70jObzay",
        "outputId": "9c4ade3c-1829-45e4-c315-ac2b4091cafd"
      },
      "execution_count": null,
      "outputs": [
        {
          "output_type": "stream",
          "name": "stdout",
          "text": [
            "Overwriting mainOneWkndRayTraceCh6.cc\n"
          ]
        }
      ]
    },
    {
      "cell_type": "code",
      "source": [
        "# compile and run \n",
        "! g++ mainOneWkndRayTraceCh6.cc -o OneWkndRayTraceCh6\n",
        "! ./OneWkndRayTraceCh6"
      ],
      "metadata": {
        "colab": {
          "base_uri": "https://localhost:8080/"
        },
        "id": "N1S1sDW1j15X",
        "outputId": "2f9fa9ee-ca6c-40ff-a371-7b4b39ac2afd"
      },
      "execution_count": null,
      "outputs": [
        {
          "output_type": "stream",
          "name": "stdout",
          "text": [
            "P3\n",
            "16 9\n",
            "255\n",
            "16 20 26 34 46 62 85 112 143 170 193 209 221 229 235 239 \n",
            "10 12 17 23 33 48 73 108 147 182 207 222 232 238 243 245 \n",
            "4 6 8 12 18 30 53 98 157 202 225 237 243 247 249 251 \n",
            "1 1 2 3 5 10 23 73 182 232 245 250 252 253 254 254 \n",
            "0 0 0 0 0 0 0 0 255 255 255 255 255 255 255 255 \n",
            "1 1 2 3 5 10 23 73 182 232 245 250 252 253 254 254 \n",
            "4 6 8 12 18 30 53 98 157 202 225 237 243 247 249 251 \n",
            "10 12 17 23 33 48 73 108 147 182 207 222 232 238 243 245 \n",
            "16 20 26 34 46 62 85 112 143 170 193 209 221 229 235 239 \n"
          ]
        }
      ]
    },
    {
      "cell_type": "code",
      "source": [],
      "metadata": {
        "id": "KmU44e7XvJw2"
      },
      "execution_count": null,
      "outputs": []
    },
    {
      "cell_type": "markdown",
      "source": [
        "## Ch 7 : Antialiasing"
      ],
      "metadata": {
        "id": "HyW39rzYvpaY"
      }
    },
    {
      "cell_type": "code",
      "source": [],
      "metadata": {
        "id": "gmlcoN9yxbKW"
      },
      "execution_count": null,
      "outputs": []
    },
    {
      "cell_type": "markdown",
      "source": [],
      "metadata": {
        "id": "JSQczwfy1_vr"
      }
    },
    {
      "cell_type": "markdown",
      "source": [
        "# Ray Tracing In One Weekend GitHub Clone"
      ],
      "metadata": {
        "id": "1vKjac8W2G9F"
      }
    },
    {
      "cell_type": "code",
      "source": [
        "import os\n",
        "if os.path.exists('raytracing.github.io'):\n",
        "  print('Use local raytracing github repo.')\n",
        "else:\n",
        "  print('Checking out raytracing github repo ...')\n",
        "  !git clone https://github.com/RayTracing/raytracing.github.io.git"
      ],
      "metadata": {
        "colab": {
          "base_uri": "https://localhost:8080/"
        },
        "id": "2fFoYc3W2RT_",
        "outputId": "56355656-8e24-42d8-b978-ba1ab9bab4b7"
      },
      "execution_count": 3,
      "outputs": [
        {
          "output_type": "stream",
          "name": "stdout",
          "text": [
            "Use local raytracing github repo.\n"
          ]
        }
      ]
    },
    {
      "cell_type": "code",
      "source": [
        "%cd raytracing.github.io \n",
        "%ls"
      ],
      "metadata": {
        "colab": {
          "base_uri": "https://localhost:8080/"
        },
        "id": "-G-t8Y1X3EMg",
        "outputId": "16f04d44-75a1-44eb-a105-6debe1667549"
      },
      "execution_count": 4,
      "outputs": [
        {
          "output_type": "stream",
          "name": "stdout",
          "text": [
            "/content/raytracing.github.io\n",
            "\u001b[0m\u001b[01;34mbooks\u001b[0m/        CMakeLists.txt   COPYING.txt  index.html  \u001b[01;34msrc\u001b[0m/\n",
            "CHANGELOG.md  CONTRIBUTING.md  \u001b[01;34mimages\u001b[0m/      README.md   \u001b[01;34mstyle\u001b[0m/\n"
          ]
        }
      ]
    },
    {
      "cell_type": "markdown",
      "source": [
        "## change the rtw_stb_image.h in src/common/rtw_stb_image.h"
      ],
      "metadata": {
        "id": "FJ2PjnN38Y_t"
      }
    },
    {
      "cell_type": "code",
      "source": [
        "%%file src/common/rtw_stb_image.h\n",
        "\n",
        "#ifndef RTWEEKEND_STB_IMAGE_H\n",
        "#define RTWEEKEND_STB_IMAGE_H\n",
        "\n",
        "\n",
        "// Disable pedantic warnings for this external library.\n",
        "#ifdef _MSC_VER\n",
        "    // Microsoft Visual C++ Compiler\n",
        "    #pragma warning (push, 0)\n",
        "#endif\n",
        "\n",
        "\n",
        "\n",
        "#define STB_IMAGE_IMPLEMENTATION\n",
        "#include \"external/stb_image.h\"\n",
        "#define STB_IMAGE_WRITE_IMPLEMENTATION\n",
        "#include \"external/stb_image_write.h\"\n",
        "\n",
        "// Restore warning levels.\n",
        "#ifdef _MSC_VER\n",
        "    // Microsoft Visual C++ Compiler\n",
        "    #pragma warning (pop)\n",
        "#endif\n",
        "\n",
        "#endif"
      ],
      "metadata": {
        "colab": {
          "base_uri": "https://localhost:8080/"
        },
        "id": "tWXtNreu8kQd",
        "outputId": "7e948174-6121-468c-fe60-046010455226"
      },
      "execution_count": 5,
      "outputs": [
        {
          "output_type": "stream",
          "name": "stdout",
          "text": [
            "Overwriting src/common/rtw_stb_image.h\n"
          ]
        }
      ]
    },
    {
      "cell_type": "markdown",
      "source": [
        "## change the color.h in src/common/color.h"
      ],
      "metadata": {
        "id": "_rlXxrIz46lI"
      }
    },
    {
      "cell_type": "code",
      "source": [
        "%%file src/common/color.h\n",
        "\n",
        "#ifndef COLOR_H\n",
        "#define COLOR_H\n",
        "//==============================================================================================\n",
        "// Originally written in 2020 by Peter Shirley <ptrshrl@gmail.com>\n",
        "//\n",
        "// To the extent possible under law, the author(s) have dedicated all copyright and related and\n",
        "// neighboring rights to this software to the public domain worldwide. This software is\n",
        "// distributed without any warranty.\n",
        "//\n",
        "// You should have received a copy (see file COPYING.txt) of the CC0 Public Domain Dedication\n",
        "// along with this software. If not, see <http://creativecommons.org/publicdomain/zero/1.0/>.\n",
        "//==============================================================================================\n",
        "\n",
        "#include \"vec3.h\"\n",
        "\n",
        "#include <iostream>\n",
        "\n",
        "\n",
        "color write_color(color &out, color pixel_color, int samples_per_pixel) {\n",
        "    auto r = pixel_color.x();\n",
        "    auto g = pixel_color.y();\n",
        "    auto b = pixel_color.z();\n",
        "\n",
        "    // Replace NaN components with zero. See explanation in Ray Tracing: The Rest of Your Life.\n",
        "    if (r != r) r = 0.0;\n",
        "    if (g != g) g = 0.0;\n",
        "    if (b != b) b = 0.0;\n",
        "\n",
        "    // Divide the color by the number of samples and gamma-correct for gamma=2.0.\n",
        "    auto scale = 1.0 / samples_per_pixel;\n",
        "    r = sqrt(scale * r);\n",
        "    g = sqrt(scale * g);\n",
        "    b = sqrt(scale * b);\n",
        "\n",
        "    // Write the translated [0,255] value of each color component.\n",
        "    //out << static_cast<int>(256 * clamp(r, 0.0, 0.999)) << ' '\n",
        "    //    << static_cast<int>(256 * clamp(g, 0.0, 0.999)) << ' '\n",
        "    //    << static_cast<int>(256 * clamp(b, 0.0, 0.999)) << '\\n';\n",
        "    out[0] = static_cast<int>(256 * clamp(r, 0.0, 0.999));\n",
        "    out[1] = static_cast<int>(256 * clamp(g, 0.0, 0.999));\n",
        "    out[2] = static_cast<int>(256 * clamp(b, 0.0, 0.999));\n",
        "    //std::cout << out << '\\n';\n",
        "}\n",
        "\n",
        "\n",
        "#endif"
      ],
      "metadata": {
        "colab": {
          "base_uri": "https://localhost:8080/"
        },
        "id": "G-olpo-25WG6",
        "outputId": "1c280810-c4b9-4719-db5e-c5d1b3073d00"
      },
      "execution_count": 67,
      "outputs": [
        {
          "output_type": "stream",
          "name": "stdout",
          "text": [
            "Overwriting src/common/color.h\n"
          ]
        }
      ]
    },
    {
      "cell_type": "markdown",
      "source": [
        "## change the main.cc in src/InOneWeekend/main.cc"
      ],
      "metadata": {
        "id": "ACg6bHa93O0h"
      }
    },
    {
      "cell_type": "code",
      "source": [
        "%%file src/InOneWeekend/main.cc\n",
        "\n",
        "//==============================================================================================\n",
        "// Originally written in 2016 by Peter Shirley <ptrshrl@gmail.com>\n",
        "//\n",
        "// To the extent possible under law, the author(s) have dedicated all copyright and related and\n",
        "// neighboring rights to this software to the public domain worldwide. This software is\n",
        "// distributed without any warranty.\n",
        "//\n",
        "// You should have received a copy (see file COPYING.txt) of the CC0 Public Domain Dedication\n",
        "// along with this software. If not, see <http://creativecommons.org/publicdomain/zero/1.0/>.\n",
        "//==============================================================================================\n",
        "\n",
        "#include \"rtweekend.h\"\n",
        "\n",
        "#include \"camera.h\"\n",
        "#include \"color.h\"\n",
        "#include \"hittable_list.h\"\n",
        "#include \"material.h\"\n",
        "#include \"sphere.h\"\n",
        "#include \"rtw_stb_image.h\"\n",
        "#include <iostream>\n",
        "\n",
        "\n",
        "color ray_color(const ray& r, const hittable& world, int depth) {\n",
        "    hit_record rec;\n",
        "\n",
        "    // If we've exceeded the ray bounce limit, no more light is gathered.\n",
        "    if (depth <= 0)\n",
        "        return color(0,0,0);\n",
        "\n",
        "    if (world.hit(r, 0.001, infinity, rec)) {\n",
        "        ray scattered;\n",
        "        color attenuation;\n",
        "        if (rec.mat_ptr->scatter(r, rec, attenuation, scattered))\n",
        "            return attenuation * ray_color(scattered, world, depth-1);\n",
        "        return color(0,0,0);\n",
        "    }\n",
        "\n",
        "    vec3 unit_direction = unit_vector(r.direction());\n",
        "    auto t = 0.5*(unit_direction.y() + 1.0);\n",
        "    return (1.0-t)*color(1.0, 1.0, 1.0) + t*color(0.5, 0.7, 1.0);\n",
        "}\n",
        "\n",
        "\n",
        "hittable_list random_scene() {\n",
        "    hittable_list world;\n",
        "\n",
        "    auto ground_material = make_shared<lambertian>(color(0.5, 0.5, 0.5));\n",
        "    world.add(make_shared<sphere>(point3(0,-1000,0), 1000, ground_material));\n",
        "\n",
        "    for (int a = -11; a < 11; a++) {\n",
        "        for (int b = -11; b < 11; b++) {\n",
        "            auto choose_mat = random_double();\n",
        "            point3 center(a + 0.9*random_double(), 0.2, b + 0.9*random_double());\n",
        "\n",
        "            if ((center - point3(4, 0.2, 0)).length() > 0.9) {\n",
        "                shared_ptr<material> sphere_material;\n",
        "\n",
        "                if (choose_mat < 0.8) {\n",
        "                    // diffuse\n",
        "                    auto albedo = color::random() * color::random();\n",
        "                    sphere_material = make_shared<lambertian>(albedo);\n",
        "                    world.add(make_shared<sphere>(center, 0.2, sphere_material));\n",
        "                } else if (choose_mat < 0.95) {\n",
        "                    // metal\n",
        "                    auto albedo = color::random(0.5, 1);\n",
        "                    auto fuzz = random_double(0, 0.5);\n",
        "                    sphere_material = make_shared<metal>(albedo, fuzz);\n",
        "                    world.add(make_shared<sphere>(center, 0.2, sphere_material));\n",
        "                } else {\n",
        "                    // glass\n",
        "                    sphere_material = make_shared<dielectric>(1.5);\n",
        "                    world.add(make_shared<sphere>(center, 0.2, sphere_material));\n",
        "                }\n",
        "            }\n",
        "        }\n",
        "    }\n",
        "\n",
        "    auto material1 = make_shared<dielectric>(1.5);\n",
        "    world.add(make_shared<sphere>(point3(0, 1, 0), 1.0, material1));\n",
        "\n",
        "    auto material2 = make_shared<lambertian>(color(0.4, 0.2, 0.1));\n",
        "    world.add(make_shared<sphere>(point3(-4, 1, 0), 1.0, material2));\n",
        "\n",
        "    auto material3 = make_shared<metal>(color(0.7, 0.6, 0.5), 0.0);\n",
        "    world.add(make_shared<sphere>(point3(4, 1, 0), 1.0, material3));\n",
        "\n",
        "    return world;\n",
        "}\n",
        "\n",
        "struct RGB{\n",
        "    unsigned int R;\n",
        "    unsigned int G;\n",
        "    unsigned int B;\n",
        "};\n",
        "\n",
        "int main() {\n",
        "\n",
        "    // Image\n",
        "\n",
        "    const auto aspect_ratio = 16.0 / 9.0;\n",
        "    const int image_width = 512;\n",
        "    const int image_height = static_cast<int>(image_width / aspect_ratio);\n",
        "    const int samples_per_pixel = 10;\n",
        "    const int max_depth = 50;\n",
        "\n",
        "    color data[image_width][image_height];\n",
        "    // World\n",
        "\n",
        "    auto world = random_scene();\n",
        "\n",
        "    // Camera\n",
        "\n",
        "    point3 lookfrom(13,2,3);\n",
        "    point3 lookat(0,0,0);\n",
        "    vec3 vup(0,1,0);\n",
        "    auto dist_to_focus = 10.0;\n",
        "    auto aperture = 0.1;\n",
        "\n",
        "    camera cam(lookfrom, lookat, vup, 20, aspect_ratio, aperture, dist_to_focus);\n",
        "\n",
        "    // Render\n",
        "\n",
        "    std::cout << \"P3\\n\" << image_width << ' ' << image_height << \"\\n255\\n\";\n",
        "\n",
        "    for (int j = image_height-1; j >= 0; --j) {\n",
        "        std::cerr << \"\\rScanlines remaining: \" << j << ' ' << std::flush;\n",
        "        for (int i = 0; i < image_width; ++i) {\n",
        "            color pixel_color(0,0,0);\n",
        "            for (int s = 0; s < samples_per_pixel; ++s) {\n",
        "                auto u = (i + random_double()) / (image_width-1);\n",
        "                auto v = (j + random_double()) / (image_height-1);\n",
        "                ray r = cam.get_ray(u, v);\n",
        "                pixel_color += ray_color(r, world, max_depth);\n",
        "            }\n",
        "            color pixel_out;\n",
        "            write_color(pixel_out, pixel_color, samples_per_pixel);\n",
        "    \n",
        "            //write_color(data[i][j], pixel_color, samples_per_pixel);\n",
        "\n",
        "            data[i][j][0] = pixel_out.x();\n",
        "            data[i][j][1] = pixel_out.y();\n",
        "            data[i][j][2] = pixel_out.z();\n",
        "            //std::cout << j << ' ' << i << ' ' << pixel_out << ' ' << data[i][j] << '\\n';\n",
        "        }\n",
        "    }\n",
        "    stbi_write_png(\"src/InOneWeekend/image.png\", image_width, image_height, 3, data, 100);\n",
        "    std::cerr << \"\\nDone.\\n\";\n",
        "}"
      ],
      "metadata": {
        "colab": {
          "base_uri": "https://localhost:8080/"
        },
        "id": "ptmhS7yb3juK",
        "outputId": "9402a640-2e12-44a1-8c91-a86b89f019b5"
      },
      "execution_count": 141,
      "outputs": [
        {
          "output_type": "stream",
          "name": "stdout",
          "text": [
            "Overwriting src/InOneWeekend/main.cc\n"
          ]
        }
      ]
    },
    {
      "cell_type": "markdown",
      "source": [
        "## compile CPP and RUN"
      ],
      "metadata": {
        "id": "m4EmFr-tWBu8"
      }
    },
    {
      "cell_type": "code",
      "source": [
        "# compile and run \n",
        "! g++ -fstack-protector-all -Isrc/common src/InOneWeekend/main.cc -o RayTrace\n",
        "! ./RayTrace"
      ],
      "metadata": {
        "id": "C9ud2nCBWFn5",
        "outputId": "f4048e64-6136-4ada-a6dd-1b2393b14ba4",
        "colab": {
          "base_uri": "https://localhost:8080/"
        }
      },
      "execution_count": 142,
      "outputs": [
        {
          "output_type": "stream",
          "name": "stdout",
          "text": [
            "P3\n",
            "512 288\n",
            "255\n",
            "Scanlines remaining: 0 \n",
            "Done.\n"
          ]
        }
      ]
    }
  ]
}