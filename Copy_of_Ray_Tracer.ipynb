{
  "nbformat": 4,
  "nbformat_minor": 0,
  "metadata": {
    "colab": {
      "provenance": [],
      "toc_visible": true,
      "include_colab_link": true
    },
    "kernelspec": {
      "name": "python3",
      "display_name": "Python 3"
    },
    "language_info": {
      "name": "python"
    },
    "widgets": {
      "application/vnd.jupyter.widget-state+json": {
        "390ea713d0bd43c2aead0aad401324d3": {
          "model_module": "@jupyter-widgets/controls",
          "model_name": "HBoxModel",
          "model_module_version": "1.5.0",
          "state": {
            "_dom_classes": [],
            "_model_module": "@jupyter-widgets/controls",
            "_model_module_version": "1.5.0",
            "_model_name": "HBoxModel",
            "_view_count": null,
            "_view_module": "@jupyter-widgets/controls",
            "_view_module_version": "1.5.0",
            "_view_name": "HBoxView",
            "box_style": "",
            "children": [
              "IPY_MODEL_a9bc525d18834042904d43b45e1cb79c",
              "IPY_MODEL_2f0456723b5344d89618da604f7aaa23",
              "IPY_MODEL_2712fb674efd4151bae084d67666ded3"
            ],
            "layout": "IPY_MODEL_930bd345caa542e48086b088ebea0a51"
          }
        },
        "a9bc525d18834042904d43b45e1cb79c": {
          "model_module": "@jupyter-widgets/controls",
          "model_name": "HTMLModel",
          "model_module_version": "1.5.0",
          "state": {
            "_dom_classes": [],
            "_model_module": "@jupyter-widgets/controls",
            "_model_module_version": "1.5.0",
            "_model_name": "HTMLModel",
            "_view_count": null,
            "_view_module": "@jupyter-widgets/controls",
            "_view_module_version": "1.5.0",
            "_view_name": "HTMLView",
            "description": "",
            "description_tooltip": null,
            "layout": "IPY_MODEL_d59ce7764214498ba4a42c23949d9234",
            "placeholder": "​",
            "style": "IPY_MODEL_6dc8b3e8a08440cfae42a537d4059a33",
            "value": "100%"
          }
        },
        "2f0456723b5344d89618da604f7aaa23": {
          "model_module": "@jupyter-widgets/controls",
          "model_name": "FloatProgressModel",
          "model_module_version": "1.5.0",
          "state": {
            "_dom_classes": [],
            "_model_module": "@jupyter-widgets/controls",
            "_model_module_version": "1.5.0",
            "_model_name": "FloatProgressModel",
            "_view_count": null,
            "_view_module": "@jupyter-widgets/controls",
            "_view_module_version": "1.5.0",
            "_view_name": "ProgressView",
            "bar_style": "success",
            "description": "",
            "description_tooltip": null,
            "layout": "IPY_MODEL_3f4f3b9aef0e44c1aaf6e70341978aa9",
            "max": 180,
            "min": 0,
            "orientation": "horizontal",
            "style": "IPY_MODEL_5003e00e30b240bcabbdfa35aefdf14a",
            "value": 180
          }
        },
        "2712fb674efd4151bae084d67666ded3": {
          "model_module": "@jupyter-widgets/controls",
          "model_name": "HTMLModel",
          "model_module_version": "1.5.0",
          "state": {
            "_dom_classes": [],
            "_model_module": "@jupyter-widgets/controls",
            "_model_module_version": "1.5.0",
            "_model_name": "HTMLModel",
            "_view_count": null,
            "_view_module": "@jupyter-widgets/controls",
            "_view_module_version": "1.5.0",
            "_view_name": "HTMLView",
            "description": "",
            "description_tooltip": null,
            "layout": "IPY_MODEL_609d81828a3b4dccb933d2caa4c7beae",
            "placeholder": "​",
            "style": "IPY_MODEL_5b6a31cf973a4b74adfadcc5d00c59b7",
            "value": " 180/180 [00:07&lt;00:00, 34.38it/s]"
          }
        },
        "930bd345caa542e48086b088ebea0a51": {
          "model_module": "@jupyter-widgets/base",
          "model_name": "LayoutModel",
          "model_module_version": "1.2.0",
          "state": {
            "_model_module": "@jupyter-widgets/base",
            "_model_module_version": "1.2.0",
            "_model_name": "LayoutModel",
            "_view_count": null,
            "_view_module": "@jupyter-widgets/base",
            "_view_module_version": "1.2.0",
            "_view_name": "LayoutView",
            "align_content": null,
            "align_items": null,
            "align_self": null,
            "border": null,
            "bottom": null,
            "display": null,
            "flex": null,
            "flex_flow": null,
            "grid_area": null,
            "grid_auto_columns": null,
            "grid_auto_flow": null,
            "grid_auto_rows": null,
            "grid_column": null,
            "grid_gap": null,
            "grid_row": null,
            "grid_template_areas": null,
            "grid_template_columns": null,
            "grid_template_rows": null,
            "height": null,
            "justify_content": null,
            "justify_items": null,
            "left": null,
            "margin": null,
            "max_height": null,
            "max_width": null,
            "min_height": null,
            "min_width": null,
            "object_fit": null,
            "object_position": null,
            "order": null,
            "overflow": null,
            "overflow_x": null,
            "overflow_y": null,
            "padding": null,
            "right": null,
            "top": null,
            "visibility": null,
            "width": null
          }
        },
        "d59ce7764214498ba4a42c23949d9234": {
          "model_module": "@jupyter-widgets/base",
          "model_name": "LayoutModel",
          "model_module_version": "1.2.0",
          "state": {
            "_model_module": "@jupyter-widgets/base",
            "_model_module_version": "1.2.0",
            "_model_name": "LayoutModel",
            "_view_count": null,
            "_view_module": "@jupyter-widgets/base",
            "_view_module_version": "1.2.0",
            "_view_name": "LayoutView",
            "align_content": null,
            "align_items": null,
            "align_self": null,
            "border": null,
            "bottom": null,
            "display": null,
            "flex": null,
            "flex_flow": null,
            "grid_area": null,
            "grid_auto_columns": null,
            "grid_auto_flow": null,
            "grid_auto_rows": null,
            "grid_column": null,
            "grid_gap": null,
            "grid_row": null,
            "grid_template_areas": null,
            "grid_template_columns": null,
            "grid_template_rows": null,
            "height": null,
            "justify_content": null,
            "justify_items": null,
            "left": null,
            "margin": null,
            "max_height": null,
            "max_width": null,
            "min_height": null,
            "min_width": null,
            "object_fit": null,
            "object_position": null,
            "order": null,
            "overflow": null,
            "overflow_x": null,
            "overflow_y": null,
            "padding": null,
            "right": null,
            "top": null,
            "visibility": null,
            "width": null
          }
        },
        "6dc8b3e8a08440cfae42a537d4059a33": {
          "model_module": "@jupyter-widgets/controls",
          "model_name": "DescriptionStyleModel",
          "model_module_version": "1.5.0",
          "state": {
            "_model_module": "@jupyter-widgets/controls",
            "_model_module_version": "1.5.0",
            "_model_name": "DescriptionStyleModel",
            "_view_count": null,
            "_view_module": "@jupyter-widgets/base",
            "_view_module_version": "1.2.0",
            "_view_name": "StyleView",
            "description_width": ""
          }
        },
        "3f4f3b9aef0e44c1aaf6e70341978aa9": {
          "model_module": "@jupyter-widgets/base",
          "model_name": "LayoutModel",
          "model_module_version": "1.2.0",
          "state": {
            "_model_module": "@jupyter-widgets/base",
            "_model_module_version": "1.2.0",
            "_model_name": "LayoutModel",
            "_view_count": null,
            "_view_module": "@jupyter-widgets/base",
            "_view_module_version": "1.2.0",
            "_view_name": "LayoutView",
            "align_content": null,
            "align_items": null,
            "align_self": null,
            "border": null,
            "bottom": null,
            "display": null,
            "flex": null,
            "flex_flow": null,
            "grid_area": null,
            "grid_auto_columns": null,
            "grid_auto_flow": null,
            "grid_auto_rows": null,
            "grid_column": null,
            "grid_gap": null,
            "grid_row": null,
            "grid_template_areas": null,
            "grid_template_columns": null,
            "grid_template_rows": null,
            "height": null,
            "justify_content": null,
            "justify_items": null,
            "left": null,
            "margin": null,
            "max_height": null,
            "max_width": null,
            "min_height": null,
            "min_width": null,
            "object_fit": null,
            "object_position": null,
            "order": null,
            "overflow": null,
            "overflow_x": null,
            "overflow_y": null,
            "padding": null,
            "right": null,
            "top": null,
            "visibility": null,
            "width": null
          }
        },
        "5003e00e30b240bcabbdfa35aefdf14a": {
          "model_module": "@jupyter-widgets/controls",
          "model_name": "ProgressStyleModel",
          "model_module_version": "1.5.0",
          "state": {
            "_model_module": "@jupyter-widgets/controls",
            "_model_module_version": "1.5.0",
            "_model_name": "ProgressStyleModel",
            "_view_count": null,
            "_view_module": "@jupyter-widgets/base",
            "_view_module_version": "1.2.0",
            "_view_name": "StyleView",
            "bar_color": null,
            "description_width": ""
          }
        },
        "609d81828a3b4dccb933d2caa4c7beae": {
          "model_module": "@jupyter-widgets/base",
          "model_name": "LayoutModel",
          "model_module_version": "1.2.0",
          "state": {
            "_model_module": "@jupyter-widgets/base",
            "_model_module_version": "1.2.0",
            "_model_name": "LayoutModel",
            "_view_count": null,
            "_view_module": "@jupyter-widgets/base",
            "_view_module_version": "1.2.0",
            "_view_name": "LayoutView",
            "align_content": null,
            "align_items": null,
            "align_self": null,
            "border": null,
            "bottom": null,
            "display": null,
            "flex": null,
            "flex_flow": null,
            "grid_area": null,
            "grid_auto_columns": null,
            "grid_auto_flow": null,
            "grid_auto_rows": null,
            "grid_column": null,
            "grid_gap": null,
            "grid_row": null,
            "grid_template_areas": null,
            "grid_template_columns": null,
            "grid_template_rows": null,
            "height": null,
            "justify_content": null,
            "justify_items": null,
            "left": null,
            "margin": null,
            "max_height": null,
            "max_width": null,
            "min_height": null,
            "min_width": null,
            "object_fit": null,
            "object_position": null,
            "order": null,
            "overflow": null,
            "overflow_x": null,
            "overflow_y": null,
            "padding": null,
            "right": null,
            "top": null,
            "visibility": null,
            "width": null
          }
        },
        "5b6a31cf973a4b74adfadcc5d00c59b7": {
          "model_module": "@jupyter-widgets/controls",
          "model_name": "DescriptionStyleModel",
          "model_module_version": "1.5.0",
          "state": {
            "_model_module": "@jupyter-widgets/controls",
            "_model_module_version": "1.5.0",
            "_model_name": "DescriptionStyleModel",
            "_view_count": null,
            "_view_module": "@jupyter-widgets/base",
            "_view_module_version": "1.2.0",
            "_view_name": "StyleView",
            "description_width": ""
          }
        }
      }
    }
  },
  "cells": [
    {
      "cell_type": "markdown",
      "metadata": {
        "id": "view-in-github",
        "colab_type": "text"
      },
      "source": [
        "<a href=\"https://colab.research.google.com/github/eagle034/ray_tracer_colab_practice/blob/main/Copy_of_Ray_Tracer.ipynb\" target=\"_parent\"><img src=\"https://colab.research.google.com/assets/colab-badge.svg\" alt=\"Open In Colab\"/></a>"
      ]
    },
    {
      "cell_type": "markdown",
      "metadata": {
        "id": "EoTba3tGcq-D"
      },
      "source": [
        "# Ray Tracer in Colab\n",
        "\n",
        "This is a Colab setup to build and run a C++ ray tracer implementation forked from https://raytracing.github.io/. A thin Python/Cython layer is created to run the C++ code, and display the rendered image in the notebook. This allows both the high performance from C++ code and the flexibility of Python/Colab, but at the cost of requiring some Cython code to interface between them.\n",
        "\n",
        "## Directory structure\n",
        "\n",
        "The C++ sources are stored in the [`ray_tracer_colab`](https://github.com/artoowang/ray_tracer_colab) repo, and it will be checked out to the working directory of the Colab runtime in the initialization cell below.\n",
        "\n",
        "When running the Colab runtime locally, it is also possible to manually check out the `ray_tracer_colab` repo under exactly that name. If such directory exists, initialization will use that directory and skip the checking out. This allows changing the C++ code locally (e.g., in a terminal) and rebuild the Cython module in this notebook to pick up the changes, which is useful for development."
      ]
    },
    {
      "cell_type": "markdown",
      "metadata": {
        "id": "K6N_fvY8WFo_"
      },
      "source": [
        "## Initialization"
      ]
    },
    {
      "cell_type": "code",
      "source": [
        "from google.colab import drive\n",
        "\n",
        "drive.mount('/content/gdrive')"
      ],
      "metadata": {
        "id": "gVr-VYrqtGQq",
        "outputId": "b1d1fed9-8119-49f2-90e2-3098d6201cad",
        "colab": {
          "base_uri": "https://localhost:8080/"
        }
      },
      "execution_count": null,
      "outputs": [
        {
          "output_type": "stream",
          "name": "stdout",
          "text": [
            "Mounted at /content/gdrive\n"
          ]
        }
      ]
    },
    {
      "cell_type": "code",
      "metadata": {
        "id": "Qbj0j2MFHJWJ"
      },
      "source": [
        "import imageio\n",
        "import numpy as np\n",
        "import matplotlib.pyplot as plt\n",
        "import os\n",
        "import sys\n",
        "from PIL import Image\n",
        "\n",
        "%reload_ext Cython\n",
        "\n",
        "imageio.plugins.freeimage.download()"
      ],
      "execution_count": null,
      "outputs": []
    },
    {
      "cell_type": "code",
      "metadata": {
        "colab": {
          "base_uri": "https://localhost:8080/"
        },
        "id": "zeWQxAnTiWWv",
        "outputId": "e4fbf1f5-f658-4f09-efc4-14fa9d1c9b68"
      },
      "source": [
        "if os.path.exists('ray_tracer_colab'):\n",
        "  print('Use local ray_tracer_colab repo.')\n",
        "else:\n",
        "  print('Checking out ray_tracer_colab repo ...')\n",
        "  !git clone https://github.com/artoowang/ray_tracer_colab.git"
      ],
      "execution_count": null,
      "outputs": [
        {
          "output_type": "stream",
          "name": "stdout",
          "text": [
            "Use local ray_tracer_colab repo.\n"
          ]
        }
      ]
    },
    {
      "cell_type": "code",
      "metadata": {
        "id": "qb359-RwPwuE"
      },
      "source": [
        "# Generate platform dependent cython arguments.\n",
        "if sys.platform == 'darwin':\n",
        "  cython_sys_dep_args = [\n",
        "      '-c=-Wno-unreachable-code',\n",
        "      '-c=-Wp,-fopenmp',\n",
        "      '--link-args=-Wp,-fopenmp',\n",
        "      '--link-args=-lomp',\n",
        "  ]\n",
        "else:\n",
        "  cython_sys_dep_args = [\n",
        "      '-c=-fopenmp',\n",
        "      '--link-args=-fopenmp',\n",
        "  ]"
      ],
      "execution_count": null,
      "outputs": []
    },
    {
      "cell_type": "markdown",
      "metadata": {
        "id": "8YCUV1u1PWYR"
      },
      "source": [
        "## ray_tracer_colab library\n",
        "\n",
        "This contains all of the C++ sources for the ray tracer. If the C++ sources are modified, run this cell again to update `libray_tracer_colab.a`."
      ]
    },
    {
      "cell_type": "code",
      "metadata": {
        "id": "n7cZ1-jjkZwx"
      },
      "source": [
        "!g++ -O3 -fPIC -Iray_tracer_colab/include -std=c++17 -c ray_tracer_colab/src/scene.cc -o ray_tracer_colab.o\n",
        "!ar rcs libray_tracer_colab.a ray_tracer_colab.o"
      ],
      "execution_count": null,
      "outputs": []
    },
    {
      "cell_type": "markdown",
      "metadata": {
        "id": "6ddUp8cAfAkk"
      },
      "source": [
        "## create_scene.h"
      ]
    },
    {
      "cell_type": "code",
      "metadata": {
        "colab": {
          "base_uri": "https://localhost:8080/"
        },
        "id": "BP-HjeOrYWyL",
        "outputId": "32a47aba-0915-42a0-fbd5-87e7ad5cc7b8"
      },
      "source": [
        "%%file create_scene.h\n",
        "\n",
        "#ifndef CREATE_SCENE_H\n",
        "#define CREATE_SCENE_H\n",
        "\n",
        "#include <memory>\n",
        "\n",
        "#include \"hittable.h\"\n",
        "#include \"hittable_list.h\"\n",
        "\n",
        "hittable_list CreateRandomWorld();\n",
        "std::unique_ptr<hittable> CreateSphere();\n",
        "\n",
        "#endif  // CREATE_SCENE_H"
      ],
      "execution_count": null,
      "outputs": [
        {
          "output_type": "stream",
          "name": "stdout",
          "text": [
            "Overwriting create_scene.h\n"
          ]
        }
      ]
    },
    {
      "cell_type": "markdown",
      "metadata": {
        "id": "AsJUYEaFfEiW"
      },
      "source": [
        "## create_scene.cc"
      ]
    },
    {
      "cell_type": "code",
      "metadata": {
        "colab": {
          "base_uri": "https://localhost:8080/"
        },
        "id": "r7ZsyH2zaIff",
        "outputId": "c9e11d76-9194-458a-9c8b-3cbcd055b1eb"
      },
      "source": [
        "%%file create_scene.cc\n",
        "\n",
        "#include \"create_scene.h\"\n",
        "\n",
        "#include <utility>\n",
        "\n",
        "#include \"color.h\"\n",
        "#include \"hittable_list.h\"\n",
        "#include \"material.h\"\n",
        "#include \"rtweekend.h\"\n",
        "#include \"sphere.h\"\n",
        "\n",
        "hittable_list CreateRandomWorld() {\n",
        "    hittable_list world;\n",
        "\n",
        "    auto ground_material = make_shared<lambertian>(color(0.5, 0.5, 0.5));\n",
        "    world.add(std::make_unique<sphere>(point3(0,-1000,0), 1000, ground_material));\n",
        "\n",
        "    for (int a = -11; a < 11; a++) {\n",
        "        for (int b = -11; b < 11; b++) {\n",
        "            auto choose_mat = random_double();\n",
        "            point3 center(a + 0.9*random_double(), 0.2, b + 0.9*random_double());\n",
        "\n",
        "            if ((center - point3(4, 0.2, 0)).length() > 0.9) {\n",
        "                shared_ptr<material> sphere_material;\n",
        "\n",
        "                if (choose_mat < 0.8) {\n",
        "                    // diffuse\n",
        "                    auto albedo = color::random() * color::random();\n",
        "                    sphere_material = make_shared<lambertian>(albedo);\n",
        "                    world.add(std::make_unique<sphere>(center, 0.2, sphere_material));\n",
        "                } else if (choose_mat < 0.95) {\n",
        "                    // metal\n",
        "                    auto albedo = color::random(0.5, 1);\n",
        "                    auto fuzz = random_double(0, 0.5);\n",
        "                    sphere_material = make_shared<metal>(albedo, fuzz);\n",
        "                    world.add(std::make_unique<sphere>(center, 0.2, sphere_material));\n",
        "                } else {\n",
        "                    // glass\n",
        "                    sphere_material = make_shared<dielectric>(1.5);\n",
        "                    world.add(std::make_unique<sphere>(center, 0.2, sphere_material));\n",
        "                }\n",
        "            }\n",
        "        }\n",
        "    }\n",
        "\n",
        "    auto material1 = make_shared<dielectric>(1.5);\n",
        "    world.add(std::make_unique<sphere>(point3(0, 1, 0), 1.0, material1));\n",
        "\n",
        "    auto material2 = make_shared<lambertian>(color(0.4, 0.2, 0.1));\n",
        "    world.add(std::make_unique<sphere>(point3(-4, 1, 0), 1.0, material2));\n",
        "\n",
        "    auto material3 = make_shared<metal>(color(0.7, 0.6, 0.5), 0.0);\n",
        "    world.add(std::make_unique<sphere>(point3(4, 1, 0), 1.0, material3));\n",
        "\n",
        "    return world;\n",
        "}\n",
        "\n",
        "std::unique_ptr<hittable> CreateSphere() {\n",
        "  auto material = make_shared<lambertian>(color(0.4, 0.2, 0.1));\n",
        "  return std::make_unique<sphere>(point3(0, 1, 0), 1.0, material);\n",
        "}"
      ],
      "execution_count": null,
      "outputs": [
        {
          "output_type": "stream",
          "name": "stdout",
          "text": [
            "Overwriting create_scene.cc\n"
          ]
        }
      ]
    },
    {
      "cell_type": "markdown",
      "metadata": {
        "id": "DOIBgQPwU7-f"
      },
      "source": [
        "## create_scene.pxd"
      ]
    },
    {
      "cell_type": "code",
      "metadata": {
        "colab": {
          "base_uri": "https://localhost:8080/"
        },
        "id": "qoElZg3PsjBN",
        "outputId": "6a1e6579-2087-4e9b-fece-61465e2f27f7"
      },
      "source": [
        "%%file create_scene.pxd\n",
        "\n",
        "from libcpp.memory cimport unique_ptr\n",
        "\n",
        "from ray_tracer_colab.pxd.hittable cimport hittable\n",
        "from ray_tracer_colab.pxd.hittable_list cimport hittable_list\n",
        "\n",
        "cdef extern from 'create_scene.h':\n",
        "  hittable_list CreateRandomWorld()\n",
        "  unique_ptr[hittable] CreateSphere()"
      ],
      "execution_count": null,
      "outputs": [
        {
          "output_type": "stream",
          "name": "stdout",
          "text": [
            "Writing create_scene.pxd\n"
          ]
        }
      ]
    },
    {
      "cell_type": "markdown",
      "metadata": {
        "id": "PLH80_3e6VI1"
      },
      "source": [
        "## Run"
      ]
    },
    {
      "cell_type": "code",
      "metadata": {
        "colab": {
          "base_uri": "https://localhost:8080/",
          "height": 336,
          "referenced_widgets": [
            "390ea713d0bd43c2aead0aad401324d3",
            "a9bc525d18834042904d43b45e1cb79c",
            "2f0456723b5344d89618da604f7aaa23",
            "2712fb674efd4151bae084d67666ded3",
            "930bd345caa542e48086b088ebea0a51",
            "d59ce7764214498ba4a42c23949d9234",
            "6dc8b3e8a08440cfae42a537d4059a33",
            "3f4f3b9aef0e44c1aaf6e70341978aa9",
            "5003e00e30b240bcabbdfa35aefdf14a",
            "609d81828a3b4dccb933d2caa4c7beae",
            "5b6a31cf973a4b74adfadcc5d00c59b7"
          ]
        },
        "id": "EnG72WLRdhTg",
        "outputId": "637af20f-628d-43eb-f47c-1f63a378568f"
      },
      "source": [
        "%%cython --verbose -3 -I. -Iray_tracer_colab/include -f -c=-std=c++17 --cplus -S create_scene.cc -L. -lray_tracer_colab {' '.join(cython_sys_dep_args)}\n",
        "\n",
        "import cython\n",
        "import numpy as np\n",
        "import time\n",
        "\n",
        "from IPython import display\n",
        "from PIL import Image\n",
        "from cython.parallel import prange, threadid\n",
        "from tqdm.notebook import tqdm\n",
        "\n",
        "from ray_tracer_colab.utils.preview_display import PreviewDisplay\n",
        "\n",
        "from libc.stdint cimport uint8_t\n",
        "from libcpp.memory cimport unique_ptr\n",
        "from libcpp.utility cimport move\n",
        "\n",
        "from ray_tracer_colab.pxd.camera cimport Camera\n",
        "from ray_tracer_colab.pxd.hittable cimport hittable\n",
        "from ray_tracer_colab.pxd.hittable_list cimport hittable_list\n",
        "from ray_tracer_colab.pxd.scene cimport Scene\n",
        "from ray_tracer_colab.pxd.vec3 cimport vec3\n",
        "from create_scene cimport CreateRandomWorld\n",
        "\n",
        "\n",
        "cdef Scene create_scene(int image_width, int image_height):\n",
        "  cdef vec3 lookfrom = vec3(13, 2, 3)\n",
        "  cdef vec3 lookat = vec3(0, 0, 0)\n",
        "  cdef vec3 vup = vec3(0, 1, 0)\n",
        "  cdef double vfov_deg = 5.0\n",
        "  cdef double aperture = 0.1\n",
        "  cdef double aspect_ratio = image_width / image_height\n",
        "  cdef double dist_to_focus = 20.0\n",
        "  cdef Camera camera = Camera(\n",
        "      lookfrom, lookat, vup, vfov_deg, aspect_ratio, aperture, dist_to_focus,\n",
        "      0.0, 0.0)\n",
        "  # TODO: Next is to create the random world in Cython.\n",
        "  return Scene(image_width, image_height, 10, 50, CreateRandomWorld(),\n",
        "               move(camera))\n",
        "\n",
        "\n",
        "def run_parallel(int image_width, int image_height):\n",
        "  # Create the bytearray to hold the ray tracer output.\n",
        "  cdef bytearray buffer = bytearray(image_width * image_height * 3)\n",
        "  # We need to explicitly declare a uint8_t pointer because we cannot access\n",
        "  # bytearray within prange().\n",
        "  cdef uint8_t* ptr = buffer\n",
        "  cdef uint8_t* line\n",
        "\n",
        "  cdef Py_ssize_t y\n",
        "  cdef Scene scene = create_scene(image_width, image_height)\n",
        "\n",
        "  progress_bar = tqdm(total=image_height)\n",
        "  preview = PreviewDisplay(every_n_sec=10.0, image_width=image_width,\n",
        "                           image_height=image_height)\n",
        "\n",
        "  # 'dynamic' schedule allows each thread to pick one line at a time, and thus\n",
        "  # makes sure all threads will be busy for the entire image.\n",
        "  for y in prange(image_height, nogil=True, schedule='dynamic'):\n",
        "    with gil:\n",
        "      progress_bar.update(1)\n",
        "      preview.maybe_update(buffer)\n",
        "    # The row 0 in a PIL Image buffer is at the top, while in our image space\n",
        "    # y = 0 is the bottom row, so we flip it here to find the pointer to the\n",
        "    # correct output line.\n",
        "    line = ptr + (image_height - y - 1) * image_width * 3\n",
        "    scene.RenderLine(y, line)\n",
        "\n",
        "  # Final update to progress bar and preview image.\n",
        "  progress_bar.close()\n",
        "  preview.update(buffer)\n",
        "  return preview.get_image()\n",
        "\n",
        "#run_parallel(1200, 645)\n",
        "run_parallel(240, 180)\n",
        "#print(test(240, 180))"
      ],
      "execution_count": null,
      "outputs": [
        {
          "output_type": "stream",
          "name": "stdout",
          "text": [
            "[1/1] Cythonizing /root/.cache/ipython/cython/_cython_magic_908196b3407c99823ad48df26df21bfc.pyx\n",
            "building '_cython_magic_908196b3407c99823ad48df26df21bfc' extension\n",
            "x86_64-linux-gnu-gcc -pthread -Wno-unused-result -Wsign-compare -DNDEBUG -g -fwrapv -O2 -Wall -g -fstack-protector-strong -Wformat -Werror=format-security -g -fwrapv -O2 -g -fstack-protector-strong -Wformat -Werror=format-security -Wdate-time -D_FORTIFY_SOURCE=2 -fPIC -I. -Iray_tracer_colab/include -I/usr/local/lib/python3.7/dist-packages/numpy/core/include -I/usr/include/python3.7m -c /root/.cache/ipython/cython/_cython_magic_908196b3407c99823ad48df26df21bfc.cpp -o /root/.cache/ipython/cython/root/.cache/ipython/cython/_cython_magic_908196b3407c99823ad48df26df21bfc.o -std=c++17 -fopenmp\n",
            "x86_64-linux-gnu-gcc -pthread -Wno-unused-result -Wsign-compare -DNDEBUG -g -fwrapv -O2 -Wall -g -fstack-protector-strong -Wformat -Werror=format-security -g -fwrapv -O2 -g -fstack-protector-strong -Wformat -Werror=format-security -Wdate-time -D_FORTIFY_SOURCE=2 -fPIC -I. -Iray_tracer_colab/include -I/usr/local/lib/python3.7/dist-packages/numpy/core/include -I/usr/include/python3.7m -c create_scene.cc -o /root/.cache/ipython/cython/create_scene.o -std=c++17 -fopenmp\n",
            "x86_64-linux-gnu-g++ -pthread -shared -Wl,-O1 -Wl,-Bsymbolic-functions -Wl,-Bsymbolic-functions -g -fwrapv -O2 -Wl,-Bsymbolic-functions -g -fwrapv -O2 -g -fstack-protector-strong -Wformat -Werror=format-security -Wdate-time -D_FORTIFY_SOURCE=2 /root/.cache/ipython/cython/root/.cache/ipython/cython/_cython_magic_908196b3407c99823ad48df26df21bfc.o /root/.cache/ipython/cython/create_scene.o -L. -lray_tracer_colab -o /root/.cache/ipython/cython/_cython_magic_908196b3407c99823ad48df26df21bfc.cpython-37m-x86_64-linux-gnu.so -fopenmp\n"
          ]
        },
        {
          "output_type": "display_data",
          "data": {
            "text/plain": [
              "  0%|          | 0/180 [00:00<?, ?it/s]"
            ],
            "application/vnd.jupyter.widget-view+json": {
              "version_major": 2,
              "version_minor": 0,
              "model_id": "390ea713d0bd43c2aead0aad401324d3"
            }
          },
          "metadata": {}
        },
        {
          "output_type": "display_data",
          "data": {
            "text/plain": [
              "<PIL.Image.Image image mode=RGB size=240x180 at 0x7EFC86F44AD0>"
            ],
            "image/png": "[encoded data removed]"
          },
          "metadata": {}
        }
      ]
    },
    {
      "cell_type": "markdown",
      "source": [
        "# Ray Tracing in a Weekend (Colab)"
      ],
      "metadata": {
        "id": "J-N8JjwS7KWs"
      }
    },
    {
      "cell_type": "markdown",
      "metadata": {
        "id": "MHTeHSQLMShX"
      },
      "source": [
        "**bold text**## Reload local modules\n",
        "\n",
        "This is needed to reload the modified Python modules from the local directory."
      ]
    },
    {
      "cell_type": "code",
      "metadata": {
        "id": "3KXeuTX1VvoJ"
      },
      "source": [
        "from importlib import reload\n",
        "import utils.preview_display\n",
        "reload(utils.preview_display)"
      ],
      "execution_count": null,
      "outputs": []
    },
    {
      "cell_type": "code",
      "source": [],
      "metadata": {
        "id": "19BougjXN_4n"
      },
      "execution_count": null,
      "outputs": []
    },
    {
      "cell_type": "markdown",
      "source": [
        "**Ray Trace in One Weekend in Google Colab**"
      ],
      "metadata": {
        "id": "0D47MBaaUIyx"
      }
    },
    {
      "cell_type": "markdown",
      "source": [
        "## main.cc"
      ],
      "metadata": {
        "id": "YQ_XzwxIgg29"
      }
    },
    {
      "cell_type": "code",
      "source": [
        "%%file main.cc\n",
        "\n",
        "#include <iostream>\n",
        "int main(){\n",
        "    \n",
        "    // Image\n",
        "    const int image_width = 8;\n",
        "    const int image_height = 8;\n",
        "\n",
        "    std::cout << \"P3\\n\" << image_width << ' ' << image_height << \"\\n255\\n\";\n",
        "    for (int j = image_height -1; j>= 0; --j){\n",
        "        for (int i = 0; i < image_width; i++){\n",
        "            auto r = double(i) / (image_width-1);\n",
        "            auto g = double(j) / (image_width-1);\n",
        "            auto b = 0.25;\n",
        "\n",
        "            int ir = static_cast<int>(255.999*r);\n",
        "            int ig = static_cast<int>(255.999*g);\n",
        "            int ib = static_cast<int>(255.999*b);\n",
        "\n",
        "            //std::cout << ir << ' ' << ig << ' ' << ib << '\\n';\n",
        "            std::cout << ir << ' ';\n",
        "        }\n",
        "        std::cout << \"\\n\";\n",
        "    }\n",
        "    return 0;\n",
        "}"
      ],
      "metadata": {
        "colab": {
          "base_uri": "https://localhost:8080/"
        },
        "id": "9vpvZZs8UROO",
        "outputId": "8398aba6-3445-4976-93ea-144a993cb8a8"
      },
      "execution_count": null,
      "outputs": [
        {
          "output_type": "stream",
          "name": "stdout",
          "text": [
            "Writing main.cc\n"
          ]
        }
      ]
    },
    {
      "cell_type": "code",
      "metadata": {
        "id": "oX-PXyIpMjqP",
        "colab": {
          "base_uri": "https://localhost:8080/"
        },
        "outputId": "2256e10c-6274-410b-902c-cddc18a63ed1"
      },
      "source": [
        "# compile and run \n",
        "! g++ main.cc -o introRayTrace\n",
        "! ./introRayTrace"
      ],
      "execution_count": null,
      "outputs": [
        {
          "output_type": "stream",
          "name": "stdout",
          "text": [
            "P3\n",
            "8 8\n",
            "255\n",
            "0 36 73 109 146 182 219 255 \n",
            "0 36 73 109 146 182 219 255 \n",
            "0 36 73 109 146 182 219 255 \n",
            "0 36 73 109 146 182 219 255 \n",
            "0 36 73 109 146 182 219 255 \n",
            "0 36 73 109 146 182 219 255 \n",
            "0 36 73 109 146 182 219 255 \n",
            "0 36 73 109 146 182 219 255 \n"
          ]
        }
      ]
    },
    {
      "cell_type": "code",
      "source": [
        "%%file vec3.h\n",
        "\n",
        "#ifndef VEC3_H\n",
        "#define VEC3_H\n",
        "\n",
        "#include <cmath>\n",
        "#include <iostream>\n",
        "\n",
        "using std::sqrt;\n",
        "\n",
        "class vec3 {\n",
        "    public:\n",
        "        vec3() : e{0,0,0} {}\n",
        "        vec3(double e0, double e1, double e2) : e{e0,e1,e2} {}\n",
        "\n",
        "        double x() const { return e[0]; }\n",
        "        double y() const { return e[1]; }\n",
        "        double z() const { return e[2]; }\n",
        "\n",
        "        vec3 operator-() const { return vec3(-e[0], -e[1], -e[2]); }\n",
        "        double operator[](int i) const { return e[i]; }\n",
        "        double& operator[](int i) { return e[i]; }\n",
        "\n",
        "        vec3& operator+=(const vec3 &v) {\n",
        "            e[0] += v.e[0];\n",
        "            e[1] += v.e[1];\n",
        "            e[2] += v.e[2];\n",
        "            return *this;\n",
        "        }\n",
        "\n",
        "        vec3& operator*=(const double t) {\n",
        "            e[0] *= t;\n",
        "            e[1] *= t;\n",
        "            e[2] *= t;\n",
        "            return *this;\n",
        "        }\n",
        "\n",
        "        vec3& operator/=(const double t){\n",
        "            return *this *= 1/t;\n",
        "        }\n",
        "        double length() const {\n",
        "            return sqrt(length_squared());\n",
        "        }\n",
        "        double length_squared() const {\n",
        "            return e[0]*e[0] + e[1]*e[1] + e[2]*e[2];\n",
        "        }\n",
        "\n",
        "    public:\n",
        "        double e[3];\n",
        "\n",
        "};\n",
        "\n",
        "// vec3 Utility Functions \n",
        "\n",
        "inline std::ostream& operator<<(std::ostream &out, const vec3 &v){\n",
        "    return out << v.e[0] << ' ' << v.e[1] << ' ' << v.e[2];\n",
        "}\n",
        "inline vec3 operator+(const vec3 &u, const vec3 &v){\n",
        "    return vec3(u.e[0] + v.e[0], u.e[1] + v.e[1], u.e[2] + v.e[2]);\n",
        "}\n",
        "inline vec3 operator-(const vec3 &u, const vec3 &v){\n",
        "    return vec3(u.e[0] - v.e[0], u.e[1] - v.e[1], u.e[2] - v.e[2]);\n",
        "}\n",
        "inline vec3 operator*(const vec3 &u, const vec3 &v){\n",
        "    return vec3(u.e[0] * v.e[0], u.e[1] * v.e[1], u.e[2] * v.e[2]);\n",
        "}\n",
        "inline vec3 operator*(double t, const vec3 &v){\n",
        "    return vec3(t * v.e[0], t * v.e[1], t * v.e[2]);\n",
        "}\n",
        "inline vec3 operator*(const vec3 &v, double t){\n",
        "    return t * v;\n",
        "}\n",
        "inline vec3 operator/(vec3 v, double t){\n",
        "    return (1/t) * v;\n",
        "}\n",
        "inline double dot(const vec3 &u, const vec3 &v){\n",
        "    return u.e[0] * v.e[0] + u.e[1] * v.e[1] + u.e[2] * v.e[2];\n",
        "}\n",
        "inline vec3 cross(const vec3 &u, const vec3 &v){\n",
        "    return vec3(u.e[1]*v.e[2] - u.e[2]*v.e[1],\n",
        "                u.e[2]*v.e[9] - u.e[0]*v.e[2],\n",
        "                u.e[0]*v.e[1] - u.e[1]*v.e[0]);\n",
        "}\n",
        "inline vec3 unit_vector(vec3 v){\n",
        "    return v / v.length();\n",
        "}\n",
        "// Type aliases for vec3\n",
        "using point3 = vec3;    // 3D point\n",
        "using color = vec3;    // RGB color\n",
        "\n",
        "#endif"
      ],
      "metadata": {
        "colab": {
          "base_uri": "https://localhost:8080/"
        },
        "id": "YWtXbpXbVzfb",
        "outputId": "3ff96339-d95d-4576-f67d-807a98e4a2a3"
      },
      "execution_count": null,
      "outputs": [
        {
          "output_type": "stream",
          "name": "stdout",
          "text": [
            "Writing vec3.h\n"
          ]
        }
      ]
    },
    {
      "cell_type": "markdown",
      "source": [
        "## color.h"
      ],
      "metadata": {
        "id": "6Dykbf--uq7L"
      }
    },
    {
      "cell_type": "code",
      "source": [
        "%%file color.h\n",
        "\n",
        "#ifndef COLOR_H\n",
        "#define COLOR_H\n",
        "\n",
        "#include \"vec3.h\"\n",
        "\n",
        "#include <iostream>\n",
        "\n",
        "void write_greyscale(std::ostream &out, color pixel_color){\n",
        "    // Write single channel component \n",
        "    out << static_cast<int>(255.999 * pixel_color.x()) << ' ';\n",
        "}\n",
        "\n",
        "void write_color(std::ostream &out, color pixel_color){\n",
        "    // Write the translated [0, 255] value of each color component \n",
        "    out << static_cast<int>(255.999 * pixel_color.x()) << ' '\n",
        "        << static_cast<int>(255.999 * pixel_color.y()) << ' '\n",
        "        << static_cast<int>(255.999 * pixel_color.z()) << '\\n';\n",
        "}\n",
        "#endif"
      ],
      "metadata": {
        "colab": {
          "base_uri": "https://localhost:8080/"
        },
        "id": "TcjOqM2zn6vg",
        "outputId": "1b402190-6952-45f7-d525-30dee1e76c29"
      },
      "execution_count": null,
      "outputs": [
        {
          "output_type": "stream",
          "name": "stdout",
          "text": [
            "Writing color.h\n"
          ]
        }
      ]
    },
    {
      "cell_type": "code",
      "source": [
        "%%file mainOneWkndRayTraceCh3.cc\n",
        "\n",
        "#include \"color.h\"\n",
        "#include \"vec3.h\"\n",
        "\n",
        "#include <iostream>\n",
        "\n",
        "int main(){\n",
        "    \n",
        "    // Image\n",
        "\n",
        "    const int image_width = 8;\n",
        "    const int image_height = 8;\n",
        "\n",
        "    // Render\n",
        "    std::cout << \"P3\\n\" << image_width << ' ' << image_height << \"\\n255\\n\";\n",
        "\n",
        "    for (int j = image_height-1; j>=0; --j){\n",
        "      for (int i = 0; i < image_width; ++i){\n",
        "          color pixel_color(double(i)/(image_width-1), double(j)/(image_height-1), 0.25);\n",
        "          //write_color(std::cout, pixel_color);\n",
        "          write_greyscale(std::cout, pixel_color);   // single channel\n",
        "      }\n",
        "      std::cout << \"\\n\";\n",
        "    }\n",
        "}"
      ],
      "metadata": {
        "colab": {
          "base_uri": "https://localhost:8080/"
        },
        "id": "pntHceLjv1tY",
        "outputId": "8227a99f-ad68-4117-d9c2-ebe3f1a226e0"
      },
      "execution_count": null,
      "outputs": [
        {
          "output_type": "stream",
          "name": "stdout",
          "text": [
            "Overwriting mainOneWkndRayTraceCh3.cc\n"
          ]
        }
      ]
    },
    {
      "cell_type": "code",
      "source": [
        "# compile and run \n",
        "! g++ mainOneWkndRayTraceCh3.cc -o OneWkndRayTraceCh3\n",
        "! ./OneWkndRayTraceCh3"
      ],
      "metadata": {
        "colab": {
          "base_uri": "https://localhost:8080/"
        },
        "id": "RsVHDMHAyI7e",
        "outputId": "1be1a992-1f0c-436d-9739-3ebb87b05be1"
      },
      "execution_count": null,
      "outputs": [
        {
          "output_type": "stream",
          "name": "stdout",
          "text": [
            "P3\n",
            "8 8\n",
            "255\n",
            "0 36 73 109 146 182 219 255 \n",
            "0 36 73 109 146 182 219 255 \n",
            "0 36 73 109 146 182 219 255 \n",
            "0 36 73 109 146 182 219 255 \n",
            "0 36 73 109 146 182 219 255 \n",
            "0 36 73 109 146 182 219 255 \n",
            "0 36 73 109 146 182 219 255 \n",
            "0 36 73 109 146 182 219 255 \n"
          ]
        }
      ]
    },
    {
      "cell_type": "markdown",
      "source": [
        "## ray.h"
      ],
      "metadata": {
        "id": "QDYuCEGS3m3X"
      }
    },
    {
      "cell_type": "code",
      "source": [
        "%%file ray.h\n",
        "\n",
        "#ifndef RAY_H\n",
        "#define RAY_H\n",
        "\n",
        "#include \"vec3.h\"\n",
        "\n",
        "class ray {\n",
        "    public:\n",
        "        ray() {}\n",
        "        ray(const point3& origin, const vec3& direction)\n",
        "          : orig(origin), dir(direction) \n",
        "        {}\n",
        "\n",
        "        point3 origin() const { return orig; }\n",
        "        vec3 direction() const { return dir; }\n",
        "\n",
        "        point3 at(double t) const {\n",
        "            return orig + t*dir;\n",
        "        }\n",
        "    \n",
        "    public:\n",
        "        point3 orig;\n",
        "        vec3 dir;\n",
        "};\n",
        "\n",
        "#endif"
      ],
      "metadata": {
        "colab": {
          "base_uri": "https://localhost:8080/"
        },
        "id": "5iPeGpBQ4Wod",
        "outputId": "d8fd698d-a473-4438-91ad-3d8795a849c3"
      },
      "execution_count": null,
      "outputs": [
        {
          "output_type": "stream",
          "name": "stdout",
          "text": [
            "Writing ray.h\n"
          ]
        }
      ]
    },
    {
      "cell_type": "markdown",
      "source": [
        "mainOneWkndRayTraceCh3.cc"
      ],
      "metadata": {
        "id": "_BeddSL97qVc"
      }
    },
    {
      "cell_type": "code",
      "source": [
        "%%file mainOneWkndRayTraceCh4.cc\n",
        "\n",
        "//#define STB_IMAGE_IMPLEMENTATION\n",
        "//#include \"stb_image.h\"\n",
        "#include \"color.h\"\n",
        "#include \"ray.h\"\n",
        "#include \"vec3.h\"\n",
        "\n",
        "#include <iostream>\n",
        "\n",
        "color ray_color(const ray& r){\n",
        "    vec3 unit_direction = unit_vector(r.direction());\n",
        "    auto t = 0.5*(unit_direction.y() + 1.0);\n",
        "    // blendedValue = (1 - t) * startValue + t * endValue\n",
        "    return (1.0-t)*color(1.0, 1.0, 1.0) + t*color(0.5, 0.7, 1.0); \n",
        "}\n",
        "\n",
        "int main(){\n",
        "    \n",
        "    // Image\n",
        "    const auto aspect_ratio = 16.0 / 9.0;\n",
        "    const int image_width = 16;\n",
        "    const int image_height = static_cast<int>(image_width / aspect_ratio);\n",
        "\n",
        "    // Camera\n",
        "\n",
        "    auto viewport_height = 2.0;\n",
        "    auto viewport_width = aspect_ratio * viewport_height;\n",
        "    auto focal_length = 1.0;\n",
        "\n",
        "    auto origin = point3(0, 0, 0);\n",
        "    auto horizontal = vec3(viewport_width, 0, 0);\n",
        "    auto vertical = vec3(0, viewport_height, 0);\n",
        "    auto lower_left_corner = origin - horizontal/2 - vertical/2 - vec3(0, 0, focal_length);\n",
        "\n",
        "    // Render\n",
        "\n",
        "    std::cout << \"P3\\n\" << image_width << \" \" << image_height << \"\\n255\\n\";\n",
        "\n",
        "    for (int j = image_height-1; j>=0; --j){\n",
        "      for(int i=0;i<image_width;++i){\n",
        "          auto u = double(i) / (image_width-1);\n",
        "          auto v = double(j) / (image_height-1);\n",
        "          ray r(origin, lower_left_corner + u*horizontal + v*vertical - origin);\n",
        "          color pixel_color = ray_color(r);\n",
        "          //write_color(std::cout, pixel_color);\n",
        "          write_greyscale(std::cout, pixel_color);      // single channel\n",
        "      }\n",
        "      std::cout << \"\\n\";\n",
        "    }\n",
        "}"
      ],
      "metadata": {
        "colab": {
          "base_uri": "https://localhost:8080/"
        },
        "id": "lvTP5Bzw7tLa",
        "outputId": "8e9316ab-2468-4eba-eb62-98062fed25c9"
      },
      "execution_count": null,
      "outputs": [
        {
          "output_type": "stream",
          "name": "stdout",
          "text": [
            "Writing mainOneWkndRayTraceCh4.cc\n"
          ]
        }
      ]
    },
    {
      "cell_type": "markdown",
      "source": [
        "## Writing mainOneWkndRayTraceCh4.cc"
      ],
      "metadata": {
        "id": "42ABsHckEgC3"
      }
    },
    {
      "cell_type": "code",
      "source": [
        "# compile and run \n",
        "! g++ mainOneWkndRayTraceCh4.cc -o OneWkndRayTraceCh4\n",
        "! ./OneWkndRayTraceCh4"
      ],
      "metadata": {
        "colab": {
          "base_uri": "https://localhost:8080/"
        },
        "id": "Ug-Iwz2-EsxM",
        "outputId": "55287161-9fb5-481f-f3e7-74df35634778"
      },
      "execution_count": null,
      "outputs": [
        {
          "output_type": "stream",
          "name": "stdout",
          "text": [
            "P3\n",
            "16 9\n",
            "255\n",
            "163 161 158 155 152 150 148 146 146 148 150 152 155 158 161 163 \n",
            "169 167 165 162 160 157 155 153 153 155 157 160 162 165 167 169 \n",
            "176 175 173 171 169 166 164 163 163 164 166 169 171 173 175 176 \n",
            "184 183 182 181 179 178 177 176 176 177 178 179 181 182 183 184 \n",
            "191 191 191 191 191 191 191 191 191 191 191 191 191 191 191 191 \n",
            "199 200 201 202 204 205 206 207 207 206 205 204 202 201 200 199 \n",
            "207 208 210 212 214 217 219 220 220 219 217 214 212 210 208 207 \n",
            "214 216 218 221 223 226 228 230 230 228 226 223 221 218 216 214 \n",
            "220 222 225 228 231 233 235 237 237 235 233 231 228 225 222 220 \n"
          ]
        }
      ]
    },
    {
      "cell_type": "markdown",
      "source": [
        "Adding a Sphere\n",
        "\n",
        "## mainOneWkndRayTraceCh5.cc\n",
        "\n"
      ],
      "metadata": {
        "id": "5Fpy_XYkdrvR"
      }
    },
    {
      "cell_type": "code",
      "source": [
        "%%file mainOneWkndRayTraceCh5.cc\n",
        "\n",
        "//#define STB_IMAGE_IMPLEMENTATION\n",
        "//#include \"stb_image.h\"\n",
        "#include \"color.h\"\n",
        "#include \"ray.h\"\n",
        "#include \"vec3.h\"\n",
        "\n",
        "#include <iostream>\n",
        "\n",
        "bool hit_sphere(const point3& center, double radius, const ray& r) {\n",
        "    vec3 oc = r.origin() - center;\n",
        "    auto a = dot(r.direction(), r.direction());\n",
        "    auto b = 2.0 * dot(oc, r.direction());\n",
        "    auto c = dot(oc, oc) - radius*radius;\n",
        "    auto discriminant = b*b - 4*a*c;\n",
        "    return (discriminant > 0);\n",
        "}\n",
        "\n",
        "color ray_color(const ray& r){\n",
        "    if (hit_sphere(point3(0,0,-1), 0.5, r))\n",
        "        return color(1,0,0);\n",
        "    vec3 unit_direction = unit_vector(r.direction());\n",
        "    auto t = 0.5*(unit_direction.y() + 1.0);\n",
        "    // blendedValue = (1 - t) * startValue + t * endValue\n",
        "    return (1.0-t)*color(1.0, 1.0, 1.0) + t*color(0.5, 0.7, 1.0); \n",
        "}\n",
        "\n",
        "int main(){\n",
        "    \n",
        "    // Image\n",
        "    const auto aspect_ratio = 16.0 / 9.0;\n",
        "    const int image_width = 16;\n",
        "    const int image_height = static_cast<int>(image_width / aspect_ratio);\n",
        "\n",
        "    // Camera\n",
        "\n",
        "    auto viewport_height = 2.0;\n",
        "    auto viewport_width = aspect_ratio * viewport_height;\n",
        "    auto focal_length = 1.0;\n",
        "\n",
        "    auto origin = point3(0, 0, 0);\n",
        "    auto horizontal = vec3(viewport_width, 0, 0);\n",
        "    auto vertical = vec3(0, viewport_height, 0);\n",
        "    auto lower_left_corner = origin - horizontal/2 - vertical/2 - vec3(0, 0, focal_length);\n",
        "\n",
        "    // Render\n",
        "\n",
        "    std::cout << \"P3\\n\" << image_width << \" \" << image_height << \"\\n255\\n\";\n",
        "\n",
        "    for (int j = image_height-1; j>=0; --j){\n",
        "      for(int i=0;i<image_width;++i){\n",
        "          auto u = double(i) / (image_width-1);\n",
        "          auto v = double(j) / (image_height-1);\n",
        "          ray r(origin, lower_left_corner + u*horizontal + v*vertical - origin);\n",
        "          color pixel_color = ray_color(r);\n",
        "          //write_color(std::cout, pixel_color);\n",
        "          write_greyscale(std::cout, pixel_color);      // single channel\n",
        "      }\n",
        "      std::cout << \"\\n\";\n",
        "    }\n",
        "}"
      ],
      "metadata": {
        "colab": {
          "base_uri": "https://localhost:8080/"
        },
        "id": "UJSiUASJVlUO",
        "outputId": "96894f8f-b63b-4eaf-9265-1f070b83a4b6"
      },
      "execution_count": null,
      "outputs": [
        {
          "output_type": "stream",
          "name": "stdout",
          "text": [
            "Overwriting mainOneWkndRayTraceCh5.cc\n"
          ]
        }
      ]
    },
    {
      "cell_type": "code",
      "source": [
        "# compile and run \n",
        "! g++ mainOneWkndRayTraceCh5.cc -o OneWkndRayTraceCh5\n",
        "! ./OneWkndRayTraceCh5"
      ],
      "metadata": {
        "colab": {
          "base_uri": "https://localhost:8080/"
        },
        "id": "LoJE5wdWiZ_x",
        "outputId": "99329022-6572-4aa4-89bf-faa0c8100464"
      },
      "execution_count": null,
      "outputs": [
        {
          "output_type": "stream",
          "name": "stdout",
          "text": [
            "P3\n",
            "16 9\n",
            "255\n",
            "163 161 158 155 152 150 148 146 146 148 150 152 155 158 161 163 \n",
            "169 167 165 162 160 157 155 153 153 155 157 160 162 165 167 169 \n",
            "176 175 173 171 169 166 164 255 255 164 166 169 171 173 175 176 \n",
            "184 183 182 181 179 178 255 255 255 255 178 179 181 182 183 184 \n",
            "191 191 191 191 191 191 255 255 255 255 191 191 191 191 191 191 \n",
            "199 200 201 202 204 205 255 255 255 255 205 204 202 201 200 199 \n",
            "207 208 210 212 214 217 219 255 255 219 217 214 212 210 208 207 \n",
            "214 216 218 221 223 226 228 230 230 228 226 223 221 218 216 214 \n",
            "220 222 225 228 231 233 235 237 237 235 233 231 228 225 222 220 \n"
          ]
        }
      ]
    },
    {
      "cell_type": "markdown",
      "source": [
        "6. Surface Normals and Multiple Objects\n",
        "\n",
        "mainOneWkndRayTraceCh6.cc"
      ],
      "metadata": {
        "id": "_KykMUo8asff"
      }
    },
    {
      "cell_type": "code",
      "source": [
        "%%file mainOneWkndRayTraceCh6.cc\n",
        "\n",
        "#include \"color.h\"\n",
        "#include \"ray.h\"\n",
        "#include \"vec3.h\"\n",
        "\n",
        "#include <iostream>\n",
        "\n",
        "bool hit_sphere(const point3& center, double radius, const ray& r) {\n",
        "    vec3 oc = r.origin() - center;\n",
        "    auto a = dot(r.direction(), r.direction());\n",
        "    auto b = 2.0 * dot(oc, r.direction());\n",
        "    auto c = dot(oc, oc) - radius*radius;\n",
        "    auto discriminant = b*b - 4*a*c;\n",
        "    if (discriminant < 0){\n",
        "        return -1.0;\n",
        "    }\n",
        "    else{\n",
        "        return (-b-sqrt(discriminant)/(2*a));\n",
        "    }\n",
        "}\n",
        "\n",
        "color ray_color(const ray& r){\n",
        "    auto t = hit_sphere(point3(0,0,-1),0.5,r);\n",
        "    if (t>0){\n",
        "        vec3 N = unit_vector(r.at(t)-vec3(0,0,-1));\n",
        "        return 0.5*color(N.x()+1,N.y()+1,N.z()+1);\n",
        "    }\n",
        "    vec3 unit_direction = unit_vector(r.direction());\n",
        "    t = 0.5*(unit_direction.y() + 1.0);\n",
        "    // blendedValue = (1 - t) * startValue + t * endValue\n",
        "    return (1.0-t)*color(1.0, 1.0, 1.0) + t*color(0.5, 0.7, 1.0); \n",
        "}\n",
        "\n",
        "int main(){\n",
        "    \n",
        "    // Image\n",
        "    const auto aspect_ratio = 16.0 / 9.0;\n",
        "    const int image_width = 16;\n",
        "    const int image_height = static_cast<int>(image_width / aspect_ratio);\n",
        "\n",
        "    // Camera\n",
        "\n",
        "    auto viewport_height = 2.0;\n",
        "    auto viewport_width = aspect_ratio * viewport_height;\n",
        "    auto focal_length = 1.0;\n",
        "\n",
        "    auto origin = point3(0, 0, 0);\n",
        "    auto horizontal = vec3(viewport_width, 0, 0);\n",
        "    auto vertical = vec3(0, viewport_height, 0);\n",
        "    auto lower_left_corner = origin - horizontal/2 - vertical/2 - vec3(0, 0, focal_length);\n",
        "\n",
        "    // Render\n",
        "\n",
        "    std::cout << \"P3\\n\" << image_width << \" \" << image_height << \"\\n255\\n\";\n",
        "\n",
        "    for (int j = image_height-1; j>=0; --j){\n",
        "      for(int i=0;i<image_width;++i){\n",
        "          auto u = double(i) / (image_width-1);\n",
        "          auto v = double(j) / (image_height-1);\n",
        "          ray r(origin, lower_left_corner + u*horizontal + v*vertical - origin);\n",
        "          color pixel_color = ray_color(r);\n",
        "          //write_color(std::cout, pixel_color);\n",
        "          write_greyscale(std::cout, pixel_color);      // single channel\n",
        "      }\n",
        "      std::cout << \"\\n\";\n",
        "    }\n",
        "}"
      ],
      "metadata": {
        "colab": {
          "base_uri": "https://localhost:8080/"
        },
        "id": "6K0R70jObzay",
        "outputId": "65d9077e-fec6-4932-fb2f-c5a0dd60fea2"
      },
      "execution_count": null,
      "outputs": [
        {
          "output_type": "stream",
          "name": "stdout",
          "text": [
            "Overwriting mainOneWkndRayTraceCh6.cc\n"
          ]
        }
      ]
    },
    {
      "cell_type": "code",
      "source": [
        "# compile and run \n",
        "! g++ mainOneWkndRayTraceCh6.cc -o OneWkndRayTraceCh6\n",
        "! ./OneWkndRayTraceCh6"
      ],
      "metadata": {
        "colab": {
          "base_uri": "https://localhost:8080/"
        },
        "id": "N1S1sDW1j15X",
        "outputId": "0e6460a7-8411-4552-977f-b0bb285137bc"
      },
      "execution_count": null,
      "outputs": [
        {
          "output_type": "stream",
          "name": "stdout",
          "text": [
            "P3\n",
            "16 9\n",
            "255\n",
            "16 20 26 34 46 62 85 112 143 170 193 209 221 229 235 239 \n",
            "10 12 17 23 33 48 73 108 147 182 207 222 232 238 243 245 \n",
            "4 6 8 12 18 30 53 98 157 202 225 237 243 247 249 251 \n",
            "1 1 2 3 5 10 23 73 182 232 245 250 252 253 254 254 \n",
            "0 0 0 0 0 0 0 0 255 255 255 255 255 255 255 255 \n",
            "1 1 2 3 5 10 23 73 182 232 245 250 252 253 254 254 \n",
            "4 6 8 12 18 30 53 98 157 202 225 237 243 247 249 251 \n",
            "10 12 17 23 33 48 73 108 147 182 207 222 232 238 243 245 \n",
            "16 20 26 34 46 62 85 112 143 170 193 209 221 229 235 239 \n"
          ]
        }
      ]
    }
  ]
}